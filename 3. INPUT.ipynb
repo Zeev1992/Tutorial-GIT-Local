{
 "cells": [
  {
   "cell_type": "markdown",
   "id": "66fef80a",
   "metadata": {},
   "source": [
    "### INPUT\n",
    "La función input() permite obtener texto escrito por teclado. Al llegar a la función el programa se detiene, esperando que se escriba y se pulse la tecla Intro."
   ]
  },
  {
   "cell_type": "code",
   "execution_count": 1,
   "id": "8da58a78",
   "metadata": {},
   "outputs": [
    {
     "name": "stdout",
     "output_type": "stream",
     "text": [
      "Escribe tu nombre: zeev\n",
      "Tu apellido: nefesh\n",
      "Escriba su nombre: fil\n",
      "Tu apellido: nefesh\n",
      "Tu nombre es: fil nefesh\n"
     ]
    }
   ],
   "source": [
    "input(\"Escribe tu nombre: \")\n",
    "input(\"Tu apellido: \")\n",
    "print(\"Tu nombre es: \" + input(\"Escriba su nombre: \") + \" \" + input(\"Tu apellido: \"))"
   ]
  },
  {
   "cell_type": "code",
   "execution_count": 2,
   "id": "a9747f7c",
   "metadata": {},
   "outputs": [
    {
     "name": "stdout",
     "output_type": "stream",
     "text": [
      "¿qué estás estudiando? ciencia de datos\n",
      "ciencia de datos\n"
     ]
    }
   ],
   "source": [
    "print(input(\"¿qué estás estudiando? \"))"
   ]
  },
  {
   "cell_type": "code",
   "execution_count": 3,
   "id": "e5ead4b9",
   "metadata": {},
   "outputs": [
    {
     "name": "stdout",
     "output_type": "stream",
     "text": [
      "¿En que país vives? México\n",
      "México\n"
     ]
    }
   ],
   "source": [
    "print(input(\"¿En que país vives? \"))"
   ]
  },
  {
   "cell_type": "markdown",
   "id": "11001338",
   "metadata": {},
   "source": [
    "En el ejemplo de abajo, el usuario escribe su respuesta en una línea distinta a la pregunta, porque Python añade un salto de línea al final de un print()"
   ]
  },
  {
   "cell_type": "code",
   "execution_count": 4,
   "id": "2981a81f",
   "metadata": {},
   "outputs": [
    {
     "name": "stdout",
     "output_type": "stream",
     "text": [
      "Cómo se llama? \n",
      "zeev\n",
      "Me alegro de conocerle, zeev\n"
     ]
    }
   ],
   "source": [
    "print (\"Cómo se llama? \")\n",
    "nombre = input()\n",
    "print(f\"Me alegro de conocerle, {nombre}\")"
   ]
  },
  {
   "cell_type": "markdown",
   "id": "535ce7a5",
   "metadata": {},
   "source": [
    "Si requiere que la respuesta se escriba a continuación de la preguna, se podría utilizar el argumento opcional end en la función print()."
   ]
  },
  {
   "cell_type": "code",
   "execution_count": 5,
   "id": "d62c64db",
   "metadata": {},
   "outputs": [
    {
     "name": "stdout",
     "output_type": "stream",
     "text": [
      "Cómo se llama? zeev\n",
      "Me alegro de conocerle, zeev\n"
     ]
    }
   ],
   "source": [
    "print (\"Cómo se llama? \", end=\"\")\n",
    "nombre = input()\n",
    "print(f\"Me alegro de conocerle, {nombre}\")"
   ]
  },
  {
   "cell_type": "markdown",
   "id": "1c2e4f2f",
   "metadata": {},
   "source": [
    "Otra forma más compacta, es aprovechar que la función input() se le puede enviar un argumento que se escribe en la pantalla (sin añadir un salto de línea)"
   ]
  },
  {
   "cell_type": "code",
   "execution_count": 6,
   "id": "c16ab454",
   "metadata": {},
   "outputs": [
    {
     "name": "stdout",
     "output_type": "stream",
     "text": [
      "Cómo se llama? zeev\n",
      "Me alegro de concerle, zeev\n"
     ]
    }
   ],
   "source": [
    "nombre = input(\"Cómo se llama? \")\n",
    "print (f\"Me alegro de concerle, {nombre}\")"
   ]
  },
  {
   "cell_type": "markdown",
   "id": "1b9910ca",
   "metadata": {},
   "source": [
    "__CONVERSIONES__\n",
    "- __NOTA:__ Si queremos que Python interprete la entrada como un número entero, se debe utilizar la función __int().__"
   ]
  },
  {
   "cell_type": "code",
   "execution_count": 10,
   "id": "171a7143",
   "metadata": {},
   "outputs": [
    {
     "name": "stdout",
     "output_type": "stream",
     "text": [
      "Dígame la cantidad de dólares? 77\n",
      "77 dólares son 1347.5 pesos mexicanos\n"
     ]
    }
   ],
   "source": [
    "cantidad = int(input(\"Dígame la cantidad de dólares? \"))\n",
    "print(f\"{cantidad} dólares son {round(cantidad * 17.50, 2)} pesos mexicanos\")"
   ]
  },
  {
   "cell_type": "markdown",
   "id": "7ccb1e87",
   "metadata": {},
   "source": [
    "__NOTA:__ Si queremos que Python interprete la entrada como un número decimal, se debe utilizar la función __float().__"
   ]
  },
  {
   "cell_type": "code",
   "execution_count": 11,
   "id": "172ca6d9",
   "metadata": {},
   "outputs": [
    {
     "name": "stdout",
     "output_type": "stream",
     "text": [
      "Dígame la cantidad de dólares? 77.5\n",
      "77.5 dólares son 1356.25 pesos mexicanos\n"
     ]
    }
   ],
   "source": [
    "cantidad = float(input(\"Dígame la cantidad de dólares? \"))\n",
    "print(f\"{cantidad} dólares son {round(cantidad * 17.50, 2)} pesos mexicanos\")"
   ]
  },
  {
   "cell_type": "markdown",
   "id": "9ba6b756",
   "metadata": {},
   "source": [
    "__Variables como argumento de la función input()__"
   ]
  },
  {
   "cell_type": "code",
   "execution_count": 12,
   "id": "2b07db98",
   "metadata": {},
   "outputs": [
    {
     "name": "stdout",
     "output_type": "stream",
     "text": [
      "Dígame su nombre? zeev\n",
      "Dígame su apellido? nefesh\n",
      "Me alego de conocerlo, zeev nefesh.\n"
     ]
    }
   ],
   "source": [
    "nomre = input(\"Dígame su nombre? \")\n",
    "apellido = input(\"Dígame su apellido? \")\n",
    "print(f\"Me alego de conocerlo, {nombre} {apellido}.\")"
   ]
  },
  {
   "cell_type": "code",
   "execution_count": 13,
   "id": "6af57ab9",
   "metadata": {},
   "outputs": [
    {
     "name": "stdout",
     "output_type": "stream",
     "text": [
      "Dígame un número? 5\n",
      "Dígame un número mayor que {numero1}: 9\n",
      "La diferencia entre ellos es 4.\n"
     ]
    }
   ],
   "source": [
    "numero1 = int(input(\"Dígame un número? \"))\n",
    "numero2 = int(input(\"Dígame un número mayor que {numero1}: \"))\n",
    "print(f\"La diferencia entre ellos es {numero2 - numero1}.\")"
   ]
  },
  {
   "cell_type": "code",
   "execution_count": 15,
   "id": "9df0c768",
   "metadata": {},
   "outputs": [
    {
     "name": "stdout",
     "output_type": "stream",
     "text": [
      "Dígame en que año estamos? 2023\n",
      "Dígame en que año nació? 1964\n",
      "Usted tiene: 59 años \n"
     ]
    }
   ],
   "source": [
    "año1 = int(input(\"Dígame en que año estamos? \"))\n",
    "año2 = int(input(\"Dígame en que año nació? \"))\n",
    "print(f\"Usted tiene: {año1 - año2} años \")"
   ]
  },
  {
   "cell_type": "markdown",
   "id": "d80a75a8",
   "metadata": {},
   "source": [
    "##### Autor\n",
    "zeev1992"
   ]
  }
 ],
 "metadata": {
  "kernelspec": {
   "display_name": "Python 3 (ipykernel)",
   "language": "python",
   "name": "python3"
  },
  "language_info": {
   "codemirror_mode": {
    "name": "ipython",
    "version": 3
   },
   "file_extension": ".py",
   "mimetype": "text/x-python",
   "name": "python",
   "nbconvert_exporter": "python",
   "pygments_lexer": "ipython3",
   "version": "3.10.9"
  }
 },
 "nbformat": 4,
 "nbformat_minor": 5
}
