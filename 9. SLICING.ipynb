{
 "cells": [
  {
   "cell_type": "markdown",
   "id": "ca99c66d",
   "metadata": {},
   "source": [
    "# SLICING\n",
    "El slicing es una técnica de indexación que se puede aplicar a secuencias como strings, listas y tuplas para extraer subsecuencias de elementos. Por lo tanto, el slicing es una técnica de indexación general que se puede aplicar a los strings y a otras secuencias."
   ]
  },
  {
   "cell_type": "code",
   "execution_count": 1,
   "id": "37a25190",
   "metadata": {},
   "outputs": [
    {
     "name": "stdout",
     "output_type": "stream",
     "text": [
      "palabra\n"
     ]
    }
   ],
   "source": [
    "# EXTRAER sub_strings PARA EXTRAER UNA CADEMA DE TEXTO\n",
    "# slicing (rebanar o cortar en rodajas)\n",
    "# MI VARIABLE variable = \"Esta palabra será extraida\"\n",
    "# EXTRAERÁ LA PALABRA \"palabra\"\n",
    "variable = \"Esta palabra será extraida\"\n",
    "print(variable[5:12])"
   ]
  },
  {
   "cell_type": "code",
   "execution_count": 2,
   "id": "69a7d9a9",
   "metadata": {},
   "outputs": [
    {
     "name": "stdout",
     "output_type": "stream",
     "text": [
      "C\n"
     ]
    }
   ],
   "source": [
    "texto = \"ABCDEFGHIJKLM\"\n",
    "fragmento = texto[2]\n",
    "print(fragmento)"
   ]
  },
  {
   "cell_type": "code",
   "execution_count": 3,
   "id": "c9d6fbe4",
   "metadata": {},
   "outputs": [
    {
     "name": "stdout",
     "output_type": "stream",
     "text": [
      "CDE\n"
     ]
    }
   ],
   "source": [
    "# VARIACIONES: QUIERO EXTRAER DESDE EL ÍNDICE 2 AL 5\n",
    "texto = \"ABCDEFGHIJKLM\"\n",
    "fragmento = texto[2:5]\n",
    "print(fragmento)"
   ]
  },
  {
   "cell_type": "code",
   "execution_count": 4,
   "id": "51166c50",
   "metadata": {},
   "outputs": [
    {
     "name": "stdout",
     "output_type": "stream",
     "text": [
      "CDEFGHIJKLM\n"
     ]
    }
   ],
   "source": [
    "# VARIACIONES: QUIERO EXTRAER DESDE EL ÍNDICE DE 2 HASTA EL FINAL\n",
    "texto = \"ABCDEFGHIJKLM\"\n",
    "fragmento = texto[2:]\n",
    "print(fragmento)"
   ]
  },
  {
   "cell_type": "code",
   "execution_count": 5,
   "id": "6a9373a9",
   "metadata": {},
   "outputs": [
    {
     "name": "stdout",
     "output_type": "stream",
     "text": [
      "ABCDE\n"
     ]
    }
   ],
   "source": [
    "# VARIACIONES: QUIERO EXTRAER DESDE EL ÍNDICE DESDE 0 HASTA EL 5 U OTRO\n",
    "texto = \"ABCDEFGHIJKLM\"\n",
    "fragmento = texto[:5]\n",
    "print(fragmento)"
   ]
  },
  {
   "cell_type": "code",
   "execution_count": 6,
   "id": "960fdaa9",
   "metadata": {},
   "outputs": [
    {
     "name": "stdout",
     "output_type": "stream",
     "text": [
      "CDEFGHIJ\n"
     ]
    }
   ],
   "source": [
    "# VARIACIONES: QUIERO EXTRAER DESDE EL ÍNDICE DESDE 2 HASTA 10\n",
    "texto = \"ABCDEFGHIJKLM\"\n",
    "fragmento = texto[2:10]\n",
    "print(fragmento)"
   ]
  },
  {
   "cell_type": "code",
   "execution_count": 7,
   "id": "eff02c63",
   "metadata": {},
   "outputs": [
    {
     "name": "stdout",
     "output_type": "stream",
     "text": [
      "ACEGIKM\n"
     ]
    }
   ],
   "source": [
    "# VARIACIONES: QUIERO EXTRAER DESDE EL ÍNDICE UN CARACTER Y VAYA DE 2 EN DOS\n",
    "texto = \"ABCDEFGHIJKLM\"\n",
    "fragmento = texto[0:15:2]\n",
    "print(fragmento)"
   ]
  },
  {
   "cell_type": "code",
   "execution_count": 8,
   "id": "e438f116",
   "metadata": {},
   "outputs": [
    {
     "name": "stdout",
     "output_type": "stream",
     "text": [
      "ACEGIKM\n"
     ]
    }
   ],
   "source": [
    "# VARIACIONES: QUIERO EXTRAER DESDE EL ÍNDICE DESDE 0 HASTA EL 5 U OTRO. OTRA FORMA\n",
    "texto = \"ABCDEFGHIJKLM\"\n",
    "fragmento = texto[::2]\n",
    "print(fragmento)"
   ]
  },
  {
   "cell_type": "code",
   "execution_count": 9,
   "id": "6d682604",
   "metadata": {},
   "outputs": [
    {
     "name": "stdout",
     "output_type": "stream",
     "text": [
      "MKIGECA\n"
     ]
    }
   ],
   "source": [
    "# VARIACIONES: QUIERO EXTRAER DESDE EL ÍNDICE DESDE 0 HASTA EL 5 U OTRO. CON UN -1,\n",
    "# LO MUESTRA E ORDEN INVERSO\n",
    "texto = \"ABCDEFGHIJKLM\"\n",
    "fragmento = texto[::-2]\n",
    "print(fragmento)"
   ]
  },
  {
   "cell_type": "code",
   "execution_count": 11,
   "id": "4c0df560",
   "metadata": {},
   "outputs": [
    {
     "name": "stdout",
     "output_type": "stream",
     "text": [
      "Controlar\n"
     ]
    }
   ],
   "source": [
    "# EXTRAER LA PALABRA \"CONTROLAR\"\n",
    "frase = \"Controlar la complejidad es la esencia de la programación\"\n",
    "fragmento = frase[0:9]\n",
    "print(fragmento)"
   ]
  },
  {
   "cell_type": "markdown",
   "id": "da2a2041",
   "metadata": {},
   "source": [
    "Los índices de las cadenas de texto comienzan en __0__, por lo que el carácter en la posición __8__ corresponde a la letra __\"c\"__ de la frase original. Además, __el tercer parámetro 3__ en __[8::3]__ indica el tamaño del salto entre caracteres seleccionados. El código extrae una parte de la cadena original frase iniciando en el carácter de índice __8__ y tomando cada tercer carácter, __y almacena ese fragmento en la variable fragmento__. El valor de fragmento es la subcadena resultante."
   ]
  },
  {
   "cell_type": "code",
   "execution_count": 14,
   "id": "7ecb2404",
   "metadata": {},
   "outputs": [
    {
     "name": "stdout",
     "output_type": "stream",
     "text": [
      "neeuoed eoualz rnvta\n"
     ]
    }
   ],
   "source": [
    "frase = \"Nunca confíes en un ordenador que no puedas lanzar por una ventana\"\n",
    "fragmento = frase[8::3]\n",
    "print(fragmento)"
   ]
  },
  {
   "cell_type": "code",
   "execution_count": 13,
   "id": "04cc78b2",
   "metadata": {},
   "outputs": [
    {
     "name": "stdout",
     "output_type": "stream",
     "text": [
      "azevrec ut nebeb es on y odot nadreucer ol ,netucsid oN .serodanedro noc rajabart laineg sE\n"
     ]
    }
   ],
   "source": [
    "# EXTRAER AL REVÉS \n",
    "frase = \"Es genial trabajar con ordenadores. No discuten, lo recuerdan todo y no se beben tu cerveza\"\n",
    "fragmento = frase[::-1]\n",
    "print(fragmento)"
   ]
  },
  {
   "cell_type": "markdown",
   "id": "265b37df",
   "metadata": {},
   "source": [
    "*Zeev"
   ]
  }
 ],
 "metadata": {
  "kernelspec": {
   "display_name": "Python 3 (ipykernel)",
   "language": "python",
   "name": "python3"
  },
  "language_info": {
   "codemirror_mode": {
    "name": "ipython",
    "version": 3
   },
   "file_extension": ".py",
   "mimetype": "text/x-python",
   "name": "python",
   "nbconvert_exporter": "python",
   "pygments_lexer": "ipython3",
   "version": "3.10.9"
  }
 },
 "nbformat": 4,
 "nbformat_minor": 5
}
