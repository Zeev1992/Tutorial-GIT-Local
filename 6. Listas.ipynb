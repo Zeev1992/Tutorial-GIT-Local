{
 "cells": [
  {
   "cell_type": "markdown",
   "id": "4f1df9ec",
   "metadata": {},
   "source": [
    "# LISTAS\n",
    "__Python tiene cuatro tipos de datos incorporados que se utilizan para guardar colecciones de datos:__\n",
    "- Listas\n",
    "- tuple\n",
    "- set y\n",
    "- diccionario"
   ]
  },
  {
   "cell_type": "markdown",
   "id": "cacde7db",
   "metadata": {},
   "source": [
    "__Estos tipos difieren en cuanto a función, desempeño y maleabilidad.__\n",
    "En cuanto a una __lista__ en Python es:\n",
    "* Ordenada. Quiere decir que los elementos están indexados y se accede a ellos a través de una locación indexada.\n",
    "* Editable. Puede editarse, añadir nuevos o eliminar los elementos que ya tiene.\n",
    "* Dinámica. Pueden contener diferentes tipos de datos y hasta de objetos. Quiere decir que puede soportar  paquetes multidimensionales de datos, como un array o muchos objetos.\n",
    "* No única. Quiere decir que la lista puede contener elementos duplicados sin que arroje un error.\n",
    "* Para crear una lista se utiliza la notación de corchetes [ ]."
   ]
  },
  {
   "cell_type": "markdown",
   "id": "1cc6fa3a",
   "metadata": {},
   "source": [
    "#### Ordenar una lista\n",
    "* de izquierda a derecha con la función .sort()"
   ]
  },
  {
   "cell_type": "code",
   "execution_count": 3,
   "id": "9fcad589",
   "metadata": {},
   "outputs": [
    {
     "name": "stdout",
     "output_type": "stream",
     "text": [
      "['a', 'b', 'c', 'g', 'o']\n"
     ]
    }
   ],
   "source": [
    "lista = ['g','b','o','a','c']\n",
    "lista.sort()\n",
    "print(lista)"
   ]
  },
  {
   "cell_type": "markdown",
   "id": "04073072",
   "metadata": {},
   "source": [
    "#### Ordena una lista\n",
    "* de izquierda a derecha con la función .sort()\n",
    "* Y después con la función .reverse() la cambia de derecha a izquierda"
   ]
  },
  {
   "cell_type": "code",
   "execution_count": 9,
   "id": "1c810c13",
   "metadata": {},
   "outputs": [
    {
     "name": "stdout",
     "output_type": "stream",
     "text": [
      "['o', 'g', 'c', 'b', 'a']\n"
     ]
    }
   ],
   "source": [
    "lista = ['g','b','o','a','c']\n",
    "lista.sort()\n",
    "lista.reverse()\n",
    "print(lista)"
   ]
  },
  {
   "cell_type": "markdown",
   "id": "858dc288",
   "metadata": {},
   "source": [
    "#### Unión de dos listas\n",
    "* se elimina la posición 0 con la función .pop(0) cero es la posición que se quiere elimiar\n",
    "* se imprime milista3 y el elemento eliminado. Por eso se utiliza la variable elimado = milista3.pop(0)"
   ]
  },
  {
   "cell_type": "code",
   "execution_count": 11,
   "id": "67b62ce7",
   "metadata": {},
   "outputs": [
    {
     "name": "stdout",
     "output_type": "stream",
     "text": [
      "Resultado de la suma de las dos listas:  ['b', 'c', 'd', 'e', 'f']\n",
      "Esta es la letra eliminada:  a\n"
     ]
    }
   ],
   "source": [
    "milista = ['a','b','c']\n",
    "milista2 = ['d','e','f']\n",
    "milista3 = milista+milista2\n",
    "eliminado = milista3.pop(0)\n",
    "print(\"Resultado de la suma de las dos listas: \", milista3)\n",
    "print(\"Esta es la letra eliminada: \", eliminado)"
   ]
  },
  {
   "cell_type": "markdown",
   "id": "3fdac0f9",
   "metadata": {},
   "source": [
    "#### Suma de listas\n",
    "* con la línea: __milista3[0] = 'alfa'__\n",
    "* se agrega al inicio de la lista la palabra alfa\n",
    "* con la línea: __milista3.append('g')__\n",
    "* Se agrega la letra 'g' a la lista"
   ]
  },
  {
   "cell_type": "code",
   "execution_count": 13,
   "id": "4d4e6b5a",
   "metadata": {},
   "outputs": [
    {
     "name": "stdout",
     "output_type": "stream",
     "text": [
      "      Suma de las dos listas con el \n",
      "      agregado de alfa y letra g:  ['alfa', 'b', 'c', 'd', 'e', 'f', 'g']\n"
     ]
    }
   ],
   "source": [
    "milista = ['a','b','c']\n",
    "milista2 = ['d','e','f']\n",
    "milista3 = milista+milista2\n",
    "milista3[0] = 'alfa'\n",
    "milista3.append('g')\n",
    "print(\"\"\"      Suma de las dos listas con el \n",
    "      agregado de alfa y letra g: \"\"\", milista3)"
   ]
  },
  {
   "cell_type": "markdown",
   "id": "0124ecb5",
   "metadata": {},
   "source": [
    "#### Ahora eliminamos el primer elemento (0)\n",
    "* Con la función ___milista3.pop(0)__ el cero indica la primer posición\n",
    "* se debe considerar que agregamos 'alfa' y será la que borrará al ocupar la posición cero 0."
   ]
  },
  {
   "cell_type": "code",
   "execution_count": 8,
   "id": "1d28ec30",
   "metadata": {},
   "outputs": [
    {
     "name": "stdout",
     "output_type": "stream",
     "text": [
      "['b', 'c', 'd', 'e', 'f', 'g']\n"
     ]
    }
   ],
   "source": [
    "milista = ['a','b','c']\n",
    "milista2 = ['d','e','f']\n",
    "milista3 = milista+milista2\n",
    "milista3[0] = 'alfa'\n",
    "milista3.append('g')\n",
    "milista3.pop(0)\n",
    "print(milista3)"
   ]
  },
  {
   "cell_type": "markdown",
   "id": "7e318e89",
   "metadata": {},
   "source": [
    "#### Función len\n",
    "* calcula el número de elementos dentro de una lista"
   ]
  },
  {
   "cell_type": "code",
   "execution_count": 14,
   "id": "c7fd6508",
   "metadata": {},
   "outputs": [
    {
     "name": "stdout",
     "output_type": "stream",
     "text": [
      "6\n"
     ]
    }
   ],
   "source": [
    "milista = ['a','b','c']\n",
    "milista2 = ['d','e','f']\n",
    "milista3 = milista+milista2\n",
    "resultado = len(milista3)\n",
    "print(resultado)"
   ]
  },
  {
   "cell_type": "markdown",
   "id": "3921b8fe",
   "metadata": {},
   "source": [
    "#### Imprimimos los elementos del 0:3\n",
    "* con la función: __variable = milista[0:3]__ \n",
    "* imprimirá los elementos que están en la posición 0, 1, y 2 de milista = a, b, c"
   ]
  },
  {
   "cell_type": "code",
   "execution_count": 15,
   "id": "2dbeae7f",
   "metadata": {},
   "outputs": [
    {
     "name": "stdout",
     "output_type": "stream",
     "text": [
      "['a', 'b', 'c']\n"
     ]
    }
   ],
   "source": [
    "milista = ['a','b','c']\n",
    "milista2 = ['d','e','f']\n",
    "milista3 = milista+milista2\n",
    "resultado = milista[0:3]\n",
    "print(resultado)"
   ]
  },
  {
   "cell_type": "markdown",
   "id": "c3190e40",
   "metadata": {},
   "source": [
    "### La función type\n",
    "* Determina el tipo de datos"
   ]
  },
  {
   "cell_type": "code",
   "execution_count": 16,
   "id": "d3f38936",
   "metadata": {},
   "outputs": [
    {
     "name": "stdout",
     "output_type": "stream",
     "text": [
      "<class 'list'>\n"
     ]
    }
   ],
   "source": [
    "milista = ['a','b','c']\n",
    "milista2 = ['d','e','f']\n",
    "milista3 = milista+milista2\n",
    "print(type(milista3))"
   ]
  },
  {
   "cell_type": "markdown",
   "id": "9cbbd348",
   "metadata": {},
   "source": [
    "#### Tipo int"
   ]
  },
  {
   "cell_type": "code",
   "execution_count": 17,
   "id": "514f186c",
   "metadata": {},
   "outputs": [
    {
     "name": "stdout",
     "output_type": "stream",
     "text": [
      "<class 'int'>\n",
      "15\n"
     ]
    }
   ],
   "source": [
    "x = 3\n",
    "y = 5\n",
    "print(type(x * y))\n",
    "print(x * y)"
   ]
  },
  {
   "cell_type": "markdown",
   "id": "13a8904f",
   "metadata": {},
   "source": [
    "#### Tipo float"
   ]
  },
  {
   "cell_type": "code",
   "execution_count": 20,
   "id": "9fd3b3e3",
   "metadata": {},
   "outputs": [
    {
     "name": "stdout",
     "output_type": "stream",
     "text": [
      "<class 'float'>\n",
      "3\n"
     ]
    }
   ],
   "source": [
    "x = 3\n",
    "y = 5\n",
    "z = (x/y)\n",
    "print(type(z))\n",
    "print(x)"
   ]
  },
  {
   "cell_type": "markdown",
   "id": "18534fce",
   "metadata": {},
   "source": [
    "#### Replicar una lista\n",
    "* en el caso del ejemplo la replicamos tres veces.\n",
    "* para ello, utilizamos el operador de multiplicador __*__"
   ]
  },
  {
   "cell_type": "code",
   "execution_count": 21,
   "id": "b8e207b4",
   "metadata": {},
   "outputs": [
    {
     "name": "stdout",
     "output_type": "stream",
     "text": [
      "['a', 'b', 'c', 'a', 'b', 'c', 'a', 'b', 'c']\n"
     ]
    }
   ],
   "source": [
    "milista = ['a','b','c']\n",
    "print(milista * 3)"
   ]
  },
  {
   "cell_type": "markdown",
   "id": "44bae8c6",
   "metadata": {},
   "source": [
    "#### Otra variante"
   ]
  },
  {
   "cell_type": "code",
   "execution_count": 23,
   "id": "1abd1aec",
   "metadata": {},
   "outputs": [
    {
     "name": "stdout",
     "output_type": "stream",
     "text": [
      "['a', 'b', 'c', 'a', 'b', 'c', 'a', 'b', 'c']\n",
      "['a', 'b', 'c']\n"
     ]
    }
   ],
   "source": [
    "milista = ['a','b','c']\n",
    "replica3 = milista * 3\n",
    "print(replica3)\n",
    "print(milista)"
   ]
  },
  {
   "cell_type": "markdown",
   "id": "3ed92909",
   "metadata": {},
   "source": [
    "###### Autor\n",
    "zeev"
   ]
  }
 ],
 "metadata": {
  "kernelspec": {
   "display_name": "Python 3 (ipykernel)",
   "language": "python",
   "name": "python3"
  },
  "language_info": {
   "codemirror_mode": {
    "name": "ipython",
    "version": 3
   },
   "file_extension": ".py",
   "mimetype": "text/x-python",
   "name": "python",
   "nbconvert_exporter": "python",
   "pygments_lexer": "ipython3",
   "version": "3.10.9"
  }
 },
 "nbformat": 4,
 "nbformat_minor": 5
}
