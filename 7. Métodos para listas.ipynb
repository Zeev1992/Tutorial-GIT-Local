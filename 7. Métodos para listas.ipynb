{
 "cells": [
  {
   "cell_type": "markdown",
   "id": "43f1c369",
   "metadata": {},
   "source": [
    "# MÉTODOS PARA LISTAS\n",
    "Un método es una función integrada en un objeto específico que realiza una operación o manipulación en ese objeto. En el caso de las listas, hay varios métodos incorporados que se pueden utilizar para realizar diversas operaciones en ellas."
   ]
  },
  {
   "cell_type": "markdown",
   "id": "bb0201e9",
   "metadata": {},
   "source": [
    "###### MÉTODO INDEX: PARA CONOCER EL INDICE DE UN CARACTER. \n",
    "index: Devuelve la primera posición donde se encuentra un elemento específico en la lista\n",
    "* EJEMPLO: VARIABLE: __mi_texto = \"Hola\"__\n",
    "* mi_texto.index(\"a\") y da como resultado: 3"
   ]
  },
  {
   "cell_type": "code",
   "execution_count": 2,
   "id": "e6472210",
   "metadata": {},
   "outputs": [
    {
     "name": "stdout",
     "output_type": "stream",
     "text": [
      "3\n"
     ]
    }
   ],
   "source": [
    "mi_texto = \"Hola\"\n",
    "print(mi_texto.index(\"a\"))"
   ]
  },
  {
   "cell_type": "markdown",
   "id": "00f0b005",
   "metadata": {},
   "source": [
    "CONOCER QUE CARACTER HAY EN UNA POSICIÓN\n",
    "* SOLO SE ESCRIBE __mi_texto[3]__ y dira que reside la letra \"a\""
   ]
  },
  {
   "cell_type": "code",
   "execution_count": 3,
   "id": "8a356829",
   "metadata": {},
   "outputs": [
    {
     "data": {
      "text/plain": [
       "'a'"
      ]
     },
     "execution_count": 3,
     "metadata": {},
     "output_type": "execute_result"
    }
   ],
   "source": [
    "mi_texto = \"Hola\"\n",
    "mi_texto[3]"
   ]
  },
  {
   "cell_type": "markdown",
   "id": "50ad6d55",
   "metadata": {},
   "source": [
    "OTROS EJEMPLOS:"
   ]
  },
  {
   "cell_type": "code",
   "execution_count": 4,
   "id": "c16bf8e8",
   "metadata": {},
   "outputs": [
    {
     "name": "stdout",
     "output_type": "stream",
     "text": [
      "E\n"
     ]
    }
   ],
   "source": [
    "mi_texto = \"Esto es una prueba\"\n",
    "resultado = mi_texto[0]\n",
    "print(resultado)"
   ]
  },
  {
   "cell_type": "code",
   "execution_count": 5,
   "id": "b9a50466",
   "metadata": {},
   "outputs": [
    {
     "name": "stdout",
     "output_type": "stream",
     "text": [
      "s\n"
     ]
    }
   ],
   "source": [
    "mi_texto = \"Esto es una prueba\"\n",
    "resultado = mi_texto[6]\n",
    "print(resultado)"
   ]
  },
  {
   "cell_type": "code",
   "execution_count": 9,
   "id": "33bde97d",
   "metadata": {},
   "outputs": [
    {
     "name": "stdout",
     "output_type": "stream",
     "text": [
      "o\n"
     ]
    }
   ],
   "source": [
    "mi_texto = \"Esto es una prueba\"\n",
    "resultado = mi_texto[3]\n",
    "print(resultado)"
   ]
  },
  {
   "cell_type": "markdown",
   "id": "8926cd5c",
   "metadata": {},
   "source": [
    "CONOCER QUE CARACTER TENEMOS Y EN QUE INDICE SE ENCUENTRA\n",
    "* ARROJA QUE ESTA EN LA POSICIÓN 9"
   ]
  },
  {
   "cell_type": "code",
   "execution_count": 10,
   "id": "7a083e9c",
   "metadata": {},
   "outputs": [
    {
     "name": "stdout",
     "output_type": "stream",
     "text": [
      "9\n"
     ]
    }
   ],
   "source": [
    "mi_texto = \"Esto es una prueba\"\n",
    "resultado = mi_texto.index(\"n\")\n",
    "print(resultado)"
   ]
  },
  {
   "cell_type": "markdown",
   "id": "d5c5818d",
   "metadata": {},
   "source": [
    "ARROJA QUE INICIA EN LA POSICIÓN 12"
   ]
  },
  {
   "cell_type": "code",
   "execution_count": 11,
   "id": "d624e80b",
   "metadata": {},
   "outputs": [
    {
     "name": "stdout",
     "output_type": "stream",
     "text": [
      "12\n"
     ]
    }
   ],
   "source": [
    "mi_texto = \"Esto es una prueba\"\n",
    "resultado = mi_texto.index(\"prueba\")\n",
    "print(resultado)"
   ]
  },
  {
   "cell_type": "markdown",
   "id": "1c70d4a7",
   "metadata": {},
   "source": [
    "ARROJA __ValueError__ POR NO ESCRIBIRLA CORRECTAMENTE"
   ]
  },
  {
   "cell_type": "code",
   "execution_count": 12,
   "id": "044a91f9",
   "metadata": {},
   "outputs": [
    {
     "ename": "ValueError",
     "evalue": "substring not found",
     "output_type": "error",
     "traceback": [
      "\u001b[1;31m---------------------------------------------------------------------------\u001b[0m",
      "\u001b[1;31mValueError\u001b[0m                                Traceback (most recent call last)",
      "Cell \u001b[1;32mIn[12], line 2\u001b[0m\n\u001b[0;32m      1\u001b[0m mi_texto \u001b[38;5;241m=\u001b[39m \u001b[38;5;124m\"\u001b[39m\u001b[38;5;124mEsto es una prueba\u001b[39m\u001b[38;5;124m\"\u001b[39m\n\u001b[1;32m----> 2\u001b[0m resultado \u001b[38;5;241m=\u001b[39m \u001b[43mmi_texto\u001b[49m\u001b[38;5;241;43m.\u001b[39;49m\u001b[43mindex\u001b[49m\u001b[43m(\u001b[49m\u001b[38;5;124;43m\"\u001b[39;49m\u001b[38;5;124;43mprueva\u001b[39;49m\u001b[38;5;124;43m\"\u001b[39;49m\u001b[43m)\u001b[49m\n\u001b[0;32m      3\u001b[0m \u001b[38;5;28mprint\u001b[39m(resultado)\n",
      "\u001b[1;31mValueError\u001b[0m: substring not found"
     ]
    }
   ],
   "source": [
    "mi_texto = \"Esto es una prueba\"\n",
    "resultado = mi_texto.index(\"prueva\")\n",
    "print(resultado)"
   ]
  },
  {
   "cell_type": "markdown",
   "id": "606e2dbc",
   "metadata": {},
   "source": [
    "ARROJA __ValueError__ POR NO ESCRIBIRLA CORRECTAMENTE, ES SENSIBLE MAYUSCULAS"
   ]
  },
  {
   "cell_type": "code",
   "execution_count": 13,
   "id": "8080dd1e",
   "metadata": {},
   "outputs": [
    {
     "ename": "ValueError",
     "evalue": "substring not found",
     "output_type": "error",
     "traceback": [
      "\u001b[1;31m---------------------------------------------------------------------------\u001b[0m",
      "\u001b[1;31mValueError\u001b[0m                                Traceback (most recent call last)",
      "Cell \u001b[1;32mIn[13], line 2\u001b[0m\n\u001b[0;32m      1\u001b[0m mi_texto \u001b[38;5;241m=\u001b[39m \u001b[38;5;124m\"\u001b[39m\u001b[38;5;124mEsto es una prueba\u001b[39m\u001b[38;5;124m\"\u001b[39m\n\u001b[1;32m----> 2\u001b[0m resultado \u001b[38;5;241m=\u001b[39m \u001b[43mmi_texto\u001b[49m\u001b[38;5;241;43m.\u001b[39;49m\u001b[43mindex\u001b[49m\u001b[43m(\u001b[49m\u001b[38;5;124;43m\"\u001b[39;49m\u001b[38;5;124;43mPrueba\u001b[39;49m\u001b[38;5;124;43m\"\u001b[39;49m\u001b[43m)\u001b[49m\n\u001b[0;32m      3\u001b[0m \u001b[38;5;28mprint\u001b[39m(resultado)\n",
      "\u001b[1;31mValueError\u001b[0m: substring not found"
     ]
    }
   ],
   "source": [
    "mi_texto = \"Esto es una prueba\"\n",
    "resultado = mi_texto.index(\"Prueba\")\n",
    "print(resultado)"
   ]
  },
  {
   "cell_type": "markdown",
   "id": "cb25b487",
   "metadata": {},
   "source": [
    "ARROJA SOLO EL INDICE DE LA PRIMERA __a__ DE IZQUIERDA A DERECHA"
   ]
  },
  {
   "cell_type": "code",
   "execution_count": 14,
   "id": "c05f4d8f",
   "metadata": {},
   "outputs": [
    {
     "name": "stdout",
     "output_type": "stream",
     "text": [
      "10\n"
     ]
    }
   ],
   "source": [
    "mi_texto = \"Esto es una prueba\"\n",
    "resultado = mi_texto.index(\"a\")\n",
    "print(resultado)"
   ]
  },
  {
   "cell_type": "markdown",
   "id": "6778b521",
   "metadata": {},
   "source": [
    "BUSCA LA __a__ DESPUÉS DE LA POSICIÓN 11 Y LA ENCUENTRA EN LA POSICIÓN 17"
   ]
  },
  {
   "cell_type": "code",
   "execution_count": 15,
   "id": "803cd8ec",
   "metadata": {},
   "outputs": [
    {
     "name": "stdout",
     "output_type": "stream",
     "text": [
      "17\n"
     ]
    }
   ],
   "source": [
    "mi_texto = \"Esto es una prueba\"\n",
    "resultado = mi_texto.index(\"a\",11)\n",
    "print(resultado)"
   ]
  },
  {
   "cell_type": "markdown",
   "id": "6b72b25b",
   "metadata": {},
   "source": [
    "PARA BUSCAR DE UNA POSICIÓN HASTA OTRA, CONSIDERAR QUE DE LA POSICIÓN:\n",
    "* 5 A LA 10 CONSIDERA UNA ANTES Y AUNQUE LA P.10 LE CORRESPONDE A LA __a__\n",
    "* MARCARIA ERROR. POR INCLUIR UNA ANTES, TENDRÍA QUE SER 5,11, PARA QUE INCLUYA LA POSICIÓN 10."
   ]
  },
  {
   "cell_type": "code",
   "execution_count": 16,
   "id": "5213852b",
   "metadata": {},
   "outputs": [
    {
     "ename": "ValueError",
     "evalue": "substring not found",
     "output_type": "error",
     "traceback": [
      "\u001b[1;31m---------------------------------------------------------------------------\u001b[0m",
      "\u001b[1;31mValueError\u001b[0m                                Traceback (most recent call last)",
      "Cell \u001b[1;32mIn[16], line 2\u001b[0m\n\u001b[0;32m      1\u001b[0m mi_texto \u001b[38;5;241m=\u001b[39m \u001b[38;5;124m\"\u001b[39m\u001b[38;5;124mEsto es una prueba\u001b[39m\u001b[38;5;124m\"\u001b[39m\n\u001b[1;32m----> 2\u001b[0m resultado \u001b[38;5;241m=\u001b[39m \u001b[43mmi_texto\u001b[49m\u001b[38;5;241;43m.\u001b[39;49m\u001b[43mindex\u001b[49m\u001b[43m(\u001b[49m\u001b[38;5;124;43m\"\u001b[39;49m\u001b[38;5;124;43ma\u001b[39;49m\u001b[38;5;124;43m\"\u001b[39;49m\u001b[43m,\u001b[49m\u001b[38;5;241;43m5\u001b[39;49m\u001b[43m,\u001b[49m\u001b[38;5;241;43m10\u001b[39;49m\u001b[43m)\u001b[49m\n\u001b[0;32m      3\u001b[0m \u001b[38;5;28mprint\u001b[39m(resultado)\n",
      "\u001b[1;31mValueError\u001b[0m: substring not found"
     ]
    }
   ],
   "source": [
    "mi_texto = \"Esto es una prueba\"\n",
    "resultado = mi_texto.index(\"a\",5,10)\n",
    "print(resultado)"
   ]
  },
  {
   "cell_type": "markdown",
   "id": "f7450b25",
   "metadata": {},
   "source": [
    "LO CORRECTO ES:"
   ]
  },
  {
   "cell_type": "code",
   "execution_count": 17,
   "id": "49856b33",
   "metadata": {},
   "outputs": [
    {
     "name": "stdout",
     "output_type": "stream",
     "text": [
      "10\n"
     ]
    }
   ],
   "source": [
    "mi_texto = \"Esto es una prueba\"\n",
    "resultado = mi_texto.index(\"a\",5,11)\n",
    "print(resultado)"
   ]
  },
  {
   "cell_type": "markdown",
   "id": "0419a4d3",
   "metadata": {},
   "source": [
    "__MÉTODO rindex() BUSCA AL REVÉS DE DERECHA A IZQUIERDA.__\n",
    "* BUSCA DE DERECHA A IZQUIERDA Y ENCUENTRA LA ÚLTIMA DE LA POSICIÓN 17"
   ]
  },
  {
   "cell_type": "code",
   "execution_count": 18,
   "id": "26529df9",
   "metadata": {},
   "outputs": [
    {
     "name": "stdout",
     "output_type": "stream",
     "text": [
      "17\n"
     ]
    }
   ],
   "source": [
    "mi_texto = \"Esto es una prueba\"\n",
    "resultado = mi_texto.rindex(\"a\")\n",
    "print(resultado)"
   ]
  },
  {
   "cell_type": "markdown",
   "id": "1435e26b",
   "metadata": {},
   "source": [
    "ENCONTRAR EL INDICE DE LA PRIMER PALABRA \"PRÁCTICA\""
   ]
  },
  {
   "cell_type": "code",
   "execution_count": 22,
   "id": "a1aae785",
   "metadata": {},
   "outputs": [
    {
     "name": "stdout",
     "output_type": "stream",
     "text": [
      "26\n"
     ]
    }
   ],
   "source": [
    "frase = \"En teoría, la teoría y la práctica son los mismos. En la práctica, no lo son.\"\n",
    "print(frase.index(\"p\"))"
   ]
  },
  {
   "cell_type": "markdown",
   "id": "5871344b",
   "metadata": {},
   "source": [
    "ENCONTRAR EL INDICE DE LA ÚLTIMA PALABRA \"PRÁCTICA\""
   ]
  },
  {
   "cell_type": "code",
   "execution_count": 23,
   "id": "3c25f3c2",
   "metadata": {},
   "outputs": [
    {
     "name": "stdout",
     "output_type": "stream",
     "text": [
      "57\n"
     ]
    }
   ],
   "source": [
    "frase = \"En teoría, la teoría y la práctica son los mismos. En la práctica, no lo son.\"\n",
    "resultado = frase.rindex(\"p\")\n",
    "print(resultado)"
   ]
  },
  {
   "cell_type": "markdown",
   "id": "66f8b7ea",
   "metadata": {},
   "source": [
    "##### Autor\n",
    "zeev1992"
   ]
  }
 ],
 "metadata": {
  "kernelspec": {
   "display_name": "Python 3 (ipykernel)",
   "language": "python",
   "name": "python3"
  },
  "language_info": {
   "codemirror_mode": {
    "name": "ipython",
    "version": 3
   },
   "file_extension": ".py",
   "mimetype": "text/x-python",
   "name": "python",
   "nbconvert_exporter": "python",
   "pygments_lexer": "ipython3",
   "version": "3.10.9"
  }
 },
 "nbformat": 4,
 "nbformat_minor": 5
}
