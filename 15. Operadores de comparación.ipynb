{
 "cells": [
  {
   "cell_type": "markdown",
   "id": "917b45a1",
   "metadata": {},
   "source": [
    "# Operadores de comparación\n",
    "- Signos de comparación, se obtiene un valor, cierto o falso.\n",
    "* mayor >\n",
    "* menor <\n",
    "* mayor o igual >=\n",
    "* menor o igual <=\n",
    "* igual ==\n",
    "* diferente !="
   ]
  },
  {
   "cell_type": "markdown",
   "id": "081870dd",
   "metadata": {},
   "source": [
    "* __DETALLES EN VALORES DE COMPARACIÓN (IGUALDAD)__"
   ]
  },
  {
   "cell_type": "code",
   "execution_count": 1,
   "id": "96386190",
   "metadata": {},
   "outputs": [
    {
     "name": "stdout",
     "output_type": "stream",
     "text": [
      "False\n"
     ]
    }
   ],
   "source": [
    "numero = 20 == 50\n",
    "print(numero)"
   ]
  },
  {
   "cell_type": "code",
   "execution_count": 2,
   "id": "85db35f8",
   "metadata": {},
   "outputs": [
    {
     "name": "stdout",
     "output_type": "stream",
     "text": [
      "True\n"
     ]
    }
   ],
   "source": [
    "numero = 20 == 10+10\n",
    "print(numero)"
   ]
  },
  {
   "cell_type": "markdown",
   "id": "90dccf6c",
   "metadata": {},
   "source": [
    "* __Comparar string__"
   ]
  },
  {
   "cell_type": "code",
   "execution_count": 3,
   "id": "03511f11",
   "metadata": {},
   "outputs": [
    {
     "name": "stdout",
     "output_type": "stream",
     "text": [
      "False\n"
     ]
    }
   ],
   "source": [
    "palabra = 'kelev' == 'gato'\n",
    "print(palabra)"
   ]
  },
  {
   "cell_type": "code",
   "execution_count": 4,
   "id": "f79f7393",
   "metadata": {},
   "outputs": [
    {
     "name": "stdout",
     "output_type": "stream",
     "text": [
      "False\n"
     ]
    }
   ],
   "source": [
    "palabra = 'jatul' == 'Jatul'\n",
    "print(palabra)"
   ]
  },
  {
   "cell_type": "code",
   "execution_count": 5,
   "id": "3b54a10c",
   "metadata": {},
   "outputs": [
    {
     "name": "stdout",
     "output_type": "stream",
     "text": [
      "True\n"
     ]
    }
   ],
   "source": [
    "palabra = 'jatul' == 'Jatul'.lower()\n",
    "print(palabra)"
   ]
  },
  {
   "cell_type": "markdown",
   "id": "a192cbb5",
   "metadata": {},
   "source": [
    "* __Comparación de un string y un int__"
   ]
  },
  {
   "cell_type": "code",
   "execution_count": 6,
   "id": "6176ffe1",
   "metadata": {},
   "outputs": [
    {
     "name": "stdout",
     "output_type": "stream",
     "text": [
      "False\n"
     ]
    }
   ],
   "source": [
    "num = '200' == 200\n",
    "print(num)"
   ]
  },
  {
   "cell_type": "markdown",
   "id": "06412a3d",
   "metadata": {},
   "source": [
    "* __Float e int__"
   ]
  },
  {
   "cell_type": "code",
   "execution_count": 7,
   "id": "37dbe739",
   "metadata": {},
   "outputs": [
    {
     "name": "stdout",
     "output_type": "stream",
     "text": [
      "True\n"
     ]
    }
   ],
   "source": [
    "num = 200.0 == 200\n",
    "print(num)"
   ]
  },
  {
   "cell_type": "markdown",
   "id": "83b28121",
   "metadata": {},
   "source": [
    "* __DETALLES EN VALORES DE COMPARACIÓN (DIFERENTE)__"
   ]
  },
  {
   "cell_type": "code",
   "execution_count": 8,
   "id": "b6b1d59b",
   "metadata": {},
   "outputs": [
    {
     "name": "stdout",
     "output_type": "stream",
     "text": [
      "True\n"
     ]
    }
   ],
   "source": [
    "numero = 20 != 50\n",
    "print(numero)"
   ]
  },
  {
   "cell_type": "code",
   "execution_count": 9,
   "id": "599c4815",
   "metadata": {},
   "outputs": [
    {
     "name": "stdout",
     "output_type": "stream",
     "text": [
      "False\n"
     ]
    }
   ],
   "source": [
    "num = 200.0 != 200\n",
    "print(num)"
   ]
  },
  {
   "cell_type": "markdown",
   "id": "e1497fc7",
   "metadata": {},
   "source": [
    "* __MAYOR O MENOR__"
   ]
  },
  {
   "cell_type": "code",
   "execution_count": 10,
   "id": "7512f67a",
   "metadata": {},
   "outputs": [
    {
     "name": "stdout",
     "output_type": "stream",
     "text": [
      "False\n"
     ]
    }
   ],
   "source": [
    "num = 200.0 > 500\n",
    "print(num)"
   ]
  },
  {
   "cell_type": "code",
   "execution_count": 11,
   "id": "a9bd2b3e",
   "metadata": {},
   "outputs": [
    {
     "name": "stdout",
     "output_type": "stream",
     "text": [
      "True\n"
     ]
    }
   ],
   "source": [
    "num = 200.0 < 500\n",
    "print(num)"
   ]
  },
  {
   "cell_type": "markdown",
   "id": "5cafd148",
   "metadata": {},
   "source": [
    "* __MAYOR O IGUAL__"
   ]
  },
  {
   "cell_type": "code",
   "execution_count": 13,
   "id": "4d0daee8",
   "metadata": {},
   "outputs": [
    {
     "name": "stdout",
     "output_type": "stream",
     "text": [
      "False\n"
     ]
    }
   ],
   "source": [
    "num = 200.0 >= 500\n",
    "print(num)"
   ]
  },
  {
   "cell_type": "markdown",
   "id": "5c554aae",
   "metadata": {},
   "source": [
    "* __MENOR O IGUAL__"
   ]
  },
  {
   "cell_type": "code",
   "execution_count": 15,
   "id": "cacfdf75",
   "metadata": {},
   "outputs": [
    {
     "name": "stdout",
     "output_type": "stream",
     "text": [
      "True\n"
     ]
    }
   ],
   "source": [
    "num = 200.0 <= 200\n",
    "print(num)"
   ]
  },
  {
   "cell_type": "markdown",
   "id": "863b1cba",
   "metadata": {},
   "source": [
    "*Zeev"
   ]
  }
 ],
 "metadata": {
  "kernelspec": {
   "display_name": "Python 3 (ipykernel)",
   "language": "python",
   "name": "python3"
  },
  "language_info": {
   "codemirror_mode": {
    "name": "ipython",
    "version": 3
   },
   "file_extension": ".py",
   "mimetype": "text/x-python",
   "name": "python",
   "nbconvert_exporter": "python",
   "pygments_lexer": "ipython3",
   "version": "3.10.9"
  }
 },
 "nbformat": 4,
 "nbformat_minor": 5
}
