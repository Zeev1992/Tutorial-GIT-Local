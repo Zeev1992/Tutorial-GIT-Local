{
 "cells": [
  {
   "cell_type": "markdown",
   "id": "9c1a0f7d",
   "metadata": {},
   "source": [
    "# Operadores lógicos\n",
    "- los operadores lógicos en Python son utilizados para combinar o evaluar expresiones lógicas y devolver un valor verdadero o falso.\n",
    "- __Operador AND (y):__ Se denota con la palabra clave. Devuelve si ambas expresiones que se evalúan son verdaderas; de lo contrario, devuelve: 'and' 'True' 'False'\n",
    "- __Operador OR (o):__ Se denota con la palabra clave. Devuelve si al menos una de las expresiones que se evalúan es verdadera; si ambas son falsas, devuelve: 'or' 'True' 'False'\n",
    "- __Operador NOT (no):__ Se denota con la palabra clave. Este operador invierte el valor de la expresión, es decir, si la expresión es verdadera, el resultado será, y si la expresión es falsa, el resultado será: 'not' 'False' 'True'\n",
    "- Estos operadores son fundamentales para construir lógica condicional y tomar decisiones en programas Python al evaluar múltiples condiciones."
   ]
  },
  {
   "cell_type": "code",
   "execution_count": 2,
   "id": "e2390d69",
   "metadata": {},
   "outputs": [
    {
     "name": "stdout",
     "output_type": "stream",
     "text": [
      "False\n"
     ]
    }
   ],
   "source": [
    "mi_var = 4 < 5 > 6\n",
    "print(mi_var)"
   ]
  },
  {
   "cell_type": "code",
   "execution_count": 4,
   "id": "1c619202",
   "metadata": {},
   "outputs": [
    {
     "name": "stdout",
     "output_type": "stream",
     "text": [
      "False\n"
     ]
    }
   ],
   "source": [
    "mi_var = 4 < 5 and 5 > 6\n",
    "print(mi_var)"
   ]
  },
  {
   "cell_type": "code",
   "execution_count": 5,
   "id": "f8dfcb63",
   "metadata": {},
   "outputs": [
    {
     "name": "stdout",
     "output_type": "stream",
     "text": [
      "True\n"
     ]
    }
   ],
   "source": [
    "mi_var = (4<5) and (5 == 2+3)\n",
    "print(mi_var)"
   ]
  },
  {
   "cell_type": "code",
   "execution_count": 6,
   "id": "eaa100fd",
   "metadata": {},
   "outputs": [
    {
     "name": "stdout",
     "output_type": "stream",
     "text": [
      "True\n"
     ]
    }
   ],
   "source": [
    "mi_var = (44 == 44) and ('kelev' == 'kelev')\n",
    "print(mi_var)"
   ]
  },
  {
   "cell_type": "markdown",
   "id": "191f9f28",
   "metadata": {},
   "source": [
    "* __Operador or__"
   ]
  },
  {
   "cell_type": "code",
   "execution_count": 7,
   "id": "5b05cc8c",
   "metadata": {},
   "outputs": [
    {
     "name": "stdout",
     "output_type": "stream",
     "text": [
      "True\n"
     ]
    }
   ],
   "source": [
    "mi_var = (100 == 100) or (50 == 50)\n",
    "print(mi_var)"
   ]
  },
  {
   "cell_type": "code",
   "execution_count": 8,
   "id": "217ef0d6",
   "metadata": {},
   "outputs": [
    {
     "name": "stdout",
     "output_type": "stream",
     "text": [
      "True\n"
     ]
    }
   ],
   "source": [
    "mi_var = (50 == 100) or (50 == 50)\n",
    "print(mi_var)"
   ]
  },
  {
   "cell_type": "code",
   "execution_count": 9,
   "id": "b0e218f4",
   "metadata": {},
   "outputs": [
    {
     "name": "stdout",
     "output_type": "stream",
     "text": [
      "False\n"
     ]
    }
   ],
   "source": [
    "mi_var = (50 == 100) or (50 == 80)\n",
    "print(mi_var)"
   ]
  },
  {
   "cell_type": "markdown",
   "id": "248b38f7",
   "metadata": {},
   "source": [
    "* __Buscar una palabra__"
   ]
  },
  {
   "cell_type": "code",
   "execution_count": 11,
   "id": "84a1806a",
   "metadata": {},
   "outputs": [
    {
     "name": "stdout",
     "output_type": "stream",
     "text": [
      "True\n"
     ]
    }
   ],
   "source": [
    "texto = \"Las aguas turbias del mar\"\n",
    "mi_var = 'aguas' in texto\n",
    "print(mi_var)"
   ]
  },
  {
   "cell_type": "markdown",
   "id": "f01aed8c",
   "metadata": {},
   "source": [
    "* __Buscar dos palabras a la vez, se cumple si las dos son verdaderas__"
   ]
  },
  {
   "cell_type": "code",
   "execution_count": 12,
   "id": "bf5b3cf9",
   "metadata": {},
   "outputs": [
    {
     "name": "stdout",
     "output_type": "stream",
     "text": [
      "True\n"
     ]
    }
   ],
   "source": [
    "texto = \"Las aguas turbias del mar\"\n",
    "mi_var = ('aguas' in texto) and ('mar' in texto)\n",
    "print(mi_var)"
   ]
  },
  {
   "cell_type": "markdown",
   "id": "45a8b07e",
   "metadata": {},
   "source": [
    "* __Como se usa el operador 'and' tienen que ser las dos verdaderas, si una es falsa como en el ejemplo, arrojará 'False'__"
   ]
  },
  {
   "cell_type": "code",
   "execution_count": 13,
   "id": "7d312577",
   "metadata": {},
   "outputs": [
    {
     "name": "stdout",
     "output_type": "stream",
     "text": [
      "False\n"
     ]
    }
   ],
   "source": [
    "texto = \"Las aguas turbias del mar\"\n",
    "mi_var = ('aguas' in texto) and ('río' in texto)\n",
    "print(mi_var)"
   ]
  },
  {
   "cell_type": "markdown",
   "id": "ac02674f",
   "metadata": {},
   "source": [
    "* __Ahora veamos la función den 'not'__"
   ]
  },
  {
   "cell_type": "code",
   "execution_count": 14,
   "id": "9a542256",
   "metadata": {},
   "outputs": [
    {
     "name": "stdout",
     "output_type": "stream",
     "text": [
      "True\n"
     ]
    }
   ],
   "source": [
    "mi_var = 'a' == 'a'\n",
    "print(mi_var)"
   ]
  },
  {
   "cell_type": "code",
   "execution_count": 15,
   "id": "820edcaf",
   "metadata": {},
   "outputs": [
    {
     "name": "stdout",
     "output_type": "stream",
     "text": [
      "False\n"
     ]
    }
   ],
   "source": [
    "mi_var = not ('a' == 'a')\n",
    "print(mi_var)"
   ]
  },
  {
   "cell_type": "markdown",
   "id": "909661fc",
   "metadata": {},
   "source": [
    "* __Doble negación con 'not' y '!='__"
   ]
  },
  {
   "cell_type": "code",
   "execution_count": 16,
   "id": "9fe1360d",
   "metadata": {},
   "outputs": [
    {
     "name": "stdout",
     "output_type": "stream",
     "text": [
      "True\n"
     ]
    }
   ],
   "source": [
    "mi_var = not ('a' != 'a')\n",
    "print(mi_var)"
   ]
  },
  {
   "cell_type": "markdown",
   "id": "3fb0b5ff",
   "metadata": {},
   "source": [
    "* __Ejercicio__"
   ]
  },
  {
   "cell_type": "code",
   "execution_count": 19,
   "id": "558a7513",
   "metadata": {},
   "outputs": [
    {
     "name": "stdout",
     "output_type": "stream",
     "text": [
      "False\n"
     ]
    }
   ],
   "source": [
    "frase = \"Cuando algo es lo suficientemente importante, lo haces incluso si las probabilidades de que salga bien no te acompañan\"\n",
    "palabra1 = \"éxito\"\n",
    "palabra2 = \"alegría\"\n",
    "mi_bool = (palabra1 and palabra2 in frase)\n",
    "print(mi_bool)"
   ]
  },
  {
   "cell_type": "markdown",
   "id": "81ee4979",
   "metadata": {},
   "source": [
    "*Zeev"
   ]
  }
 ],
 "metadata": {
  "kernelspec": {
   "display_name": "Python 3 (ipykernel)",
   "language": "python",
   "name": "python3"
  },
  "language_info": {
   "codemirror_mode": {
    "name": "ipython",
    "version": 3
   },
   "file_extension": ".py",
   "mimetype": "text/x-python",
   "name": "python",
   "nbconvert_exporter": "python",
   "pygments_lexer": "ipython3",
   "version": "3.10.9"
  }
 },
 "nbformat": 4,
 "nbformat_minor": 5
}
