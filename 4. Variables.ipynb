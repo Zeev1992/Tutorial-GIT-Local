{
 "cells": [
  {
   "cell_type": "markdown",
   "id": "15112f28",
   "metadata": {},
   "source": [
    "### VARIABLES\n",
    "Trabajo con variables\n",
    "Las variables se pueden entender como cajas en las que se guardan los datos. En Python las variables son etiquetas, que permiten hacer referencia a los datos, que se guardan en unas \"cajas\" llamadas objetos.\n",
    "El concepto de \"variable\" proviene de las matemáticas, una variable es un símbolo que forma parte de una expresión o de una fórmula.\n",
    "- __NOTA:__ La variable se escribe a la izquierda de la igualdad.\n",
    "- Para que IDLE muestre el valor de una variable, basta con escribir su nombre\n",
    "- Si se va almacenar texto, debe escribirse entre comillas, dobles o simples (cadenas de texto)\n",
    "- Se recomienda que el nombree de la variable esté relacionada con la información que almacena en ella.\n",
    "- El nombre de la variable debe empezar con una letra o por un guión bajo (_)\n",
    "- Los nombres de las variables no pueden incluir espacios en blanco\n",
    "- Cuando el nombre se componga por varias palabras hay que separarlas con guiones bajos\n",
    "- Las palabras reservadas del lenguaje están prohibidas como nombres de variables, IDLE marca el error en color naranja.\n",
    "- No es recomendable utilizar los nombres de las funciones como nombres de variables"
   ]
  },
  {
   "cell_type": "code",
   "execution_count": 9,
   "id": "414e36d9",
   "metadata": {},
   "outputs": [
    {
     "data": {
      "text/plain": [
       "5"
      ]
     },
     "execution_count": 9,
     "metadata": {},
     "output_type": "execute_result"
    }
   ],
   "source": [
    "a = 2\n",
    "a + 3"
   ]
  },
  {
   "cell_type": "code",
   "execution_count": 11,
   "id": "0cb9d087",
   "metadata": {},
   "outputs": [
    {
     "data": {
      "text/plain": [
       "31536000"
      ]
     },
     "execution_count": 11,
     "metadata": {},
     "output_type": "execute_result"
    }
   ],
   "source": [
    "dias = 365\n",
    "horas = 24 * dias\n",
    "minutos = 60 * horas\n",
    "segundos = 60 * minutos\n",
    "segundos"
   ]
  },
  {
   "cell_type": "markdown",
   "id": "025c82c0",
   "metadata": {},
   "source": [
    "__EJEMPLOS__"
   ]
  },
  {
   "cell_type": "code",
   "execution_count": 1,
   "id": "13cb5141",
   "metadata": {},
   "outputs": [
    {
     "name": "stdout",
     "output_type": "stream",
     "text": [
      "zeev\n"
     ]
    }
   ],
   "source": [
    "nombre = \"zeev\"\n",
    "print(nombre)"
   ]
  },
  {
   "cell_type": "code",
   "execution_count": 2,
   "id": "3b7329a3",
   "metadata": {},
   "outputs": [
    {
     "name": "stdout",
     "output_type": "stream",
     "text": [
      "80\n"
     ]
    }
   ],
   "source": [
    "edad = 50\n",
    "edad2 = 30\n",
    "print(edad+edad2)"
   ]
  },
  {
   "cell_type": "code",
   "execution_count": 5,
   "id": "bddcb002",
   "metadata": {},
   "outputs": [
    {
     "name": "stdout",
     "output_type": "stream",
     "text": [
      "80\n"
     ]
    }
   ],
   "source": [
    "edad = 30\n",
    "edad2 = 50\n",
    "edad3 = edad + edad2\n",
    "print(edad3)"
   ]
  },
  {
   "cell_type": "code",
   "execution_count": 6,
   "id": "9913d31a",
   "metadata": {},
   "outputs": [
    {
     "name": "stdout",
     "output_type": "stream",
     "text": [
      "Estás tomando un curso de: Python\n"
     ]
    }
   ],
   "source": [
    "curso = \"Python\"\n",
    "print(\"Estás tomando un curso de: \" + curso)"
   ]
  },
  {
   "cell_type": "markdown",
   "id": "68fe79df",
   "metadata": {},
   "source": [
    "__VARIABLE CON INPUT__"
   ]
  },
  {
   "cell_type": "code",
   "execution_count": 8,
   "id": "f13cc88b",
   "metadata": {},
   "outputs": [
    {
     "name": "stdout",
     "output_type": "stream",
     "text": [
      "Escribe tu nombre: zeev\n",
      "Tu nombre es: zeev\n"
     ]
    }
   ],
   "source": [
    "nombre = input(\"Escribe tu nombre: \")\n",
    "print(\"Tu nombre es: \" + nombre)"
   ]
  },
  {
   "cell_type": "markdown",
   "id": "4a179802",
   "metadata": {},
   "source": [
    "##### Autor\n",
    "zeev"
   ]
  },
  {
   "cell_type": "code",
   "execution_count": null,
   "id": "c02678a3",
   "metadata": {},
   "outputs": [],
   "source": []
  }
 ],
 "metadata": {
  "kernelspec": {
   "display_name": "Python 3 (ipykernel)",
   "language": "python",
   "name": "python3"
  },
  "language_info": {
   "codemirror_mode": {
    "name": "ipython",
    "version": 3
   },
   "file_extension": ".py",
   "mimetype": "text/x-python",
   "name": "python",
   "nbconvert_exporter": "python",
   "pygments_lexer": "ipython3",
   "version": "3.10.9"
  }
 },
 "nbformat": 4,
 "nbformat_minor": 5
}
