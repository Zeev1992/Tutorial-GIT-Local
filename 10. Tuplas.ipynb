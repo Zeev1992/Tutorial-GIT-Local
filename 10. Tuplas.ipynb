{
 "cells": [
  {
   "cell_type": "markdown",
   "id": "ed14bf7e",
   "metadata": {},
   "source": [
    "# Tuplas\n",
    "* Listas inmutables\n",
    "* No se pueden añadir nuevos elementos\n",
    "* No se pueden aliminar elementos\n",
    "* No se pueden modificar los elementos que contiene\n",
    "* Las tuplas utilizan paréntesis"
   ]
  },
  {
   "cell_type": "code",
   "execution_count": 2,
   "id": "a5042686",
   "metadata": {},
   "outputs": [
    {
     "name": "stdout",
     "output_type": "stream",
     "text": [
      "(4, 'Hola', 6.35, [1, 2, 3, 5], 9)\n"
     ]
    }
   ],
   "source": [
    "tupla = (4,\"Hola\",6.35,[1,2,3,5],9)\n",
    "\n",
    "print(tupla)\n"
   ]
  },
  {
   "cell_type": "code",
   "execution_count": 3,
   "id": "a855ed73",
   "metadata": {},
   "outputs": [
    {
     "name": "stdout",
     "output_type": "stream",
     "text": [
      "4\n"
     ]
    }
   ],
   "source": [
    "tupla = (4,\"Hola\",6.35,[1,2,3,5],9)\n",
    "\n",
    "print(tupla[0])"
   ]
  },
  {
   "cell_type": "code",
   "execution_count": 4,
   "id": "9b16066d",
   "metadata": {},
   "outputs": [
    {
     "name": "stdout",
     "output_type": "stream",
     "text": [
      "6.35\n"
     ]
    }
   ],
   "source": [
    "tupla = (4,\"Hola\",6.35,[1,2,3,5],9)\n",
    "\n",
    "print(tupla[-3])"
   ]
  },
  {
   "cell_type": "code",
   "execution_count": 5,
   "id": "b20a2851",
   "metadata": {},
   "outputs": [
    {
     "name": "stdout",
     "output_type": "stream",
     "text": [
      "9\n"
     ]
    }
   ],
   "source": [
    "tupla = (4,\"Hola\",6.35,[1,2,3,5],9)\n",
    "\n",
    "print(tupla[-1])"
   ]
  },
  {
   "cell_type": "code",
   "execution_count": 6,
   "id": "2c24a0db",
   "metadata": {},
   "outputs": [
    {
     "name": "stdout",
     "output_type": "stream",
     "text": [
      "('Hola', 6.35, [1, 2, 3, 5], 9)\n"
     ]
    }
   ],
   "source": [
    "tupla = (4,\"Hola\",6.35,[1,2,3,5],9)\n",
    "\n",
    "print(tupla[1:])"
   ]
  },
  {
   "cell_type": "markdown",
   "id": "e37e0e07",
   "metadata": {},
   "source": [
    "__Buscar en una tupla__"
   ]
  },
  {
   "cell_type": "code",
   "execution_count": 7,
   "id": "2c878278",
   "metadata": {},
   "outputs": [
    {
     "name": "stdout",
     "output_type": "stream",
     "text": [
      "True\n"
     ]
    }
   ],
   "source": [
    "tupla = (4,\"Hola\",6.35,[1,2,3,5],9)\n",
    "\n",
    "print(4 in tupla)"
   ]
  },
  {
   "cell_type": "code",
   "execution_count": 10,
   "id": "2dd6a422",
   "metadata": {},
   "outputs": [
    {
     "name": "stdout",
     "output_type": "stream",
     "text": [
      "1\n"
     ]
    }
   ],
   "source": [
    "tupla = (4,\"Hola\",6.35,[1,2,3,5],9)\n",
    "\n",
    "print(tupla.index(\"Hola\"))"
   ]
  },
  {
   "cell_type": "markdown",
   "id": "b8b2786e",
   "metadata": {},
   "source": [
    "__Muestra el primer 4 que encuentra y ese corresponde al índice 0__"
   ]
  },
  {
   "cell_type": "code",
   "execution_count": 11,
   "id": "a6d5927b",
   "metadata": {},
   "outputs": [
    {
     "name": "stdout",
     "output_type": "stream",
     "text": [
      "0\n"
     ]
    }
   ],
   "source": [
    "tupla = (4,\"Hola\",6.35,[1,2,3,5],9,4)\n",
    "\n",
    "print(tupla.index(4))"
   ]
  },
  {
   "cell_type": "markdown",
   "id": "72813ffd",
   "metadata": {},
   "source": [
    "__Busqueda con count__\n",
    "* Encuentra el valor que se busca y sus coincidencias "
   ]
  },
  {
   "cell_type": "code",
   "execution_count": 12,
   "id": "f535b9e7",
   "metadata": {},
   "outputs": [
    {
     "name": "stdout",
     "output_type": "stream",
     "text": [
      "2\n"
     ]
    }
   ],
   "source": [
    "tupla = (4,\"Hola\",6.35,[1,2,3,5],9,4)\n",
    "\n",
    "print(tupla.count(4))"
   ]
  },
  {
   "cell_type": "code",
   "execution_count": 13,
   "id": "f52c851e",
   "metadata": {},
   "outputs": [
    {
     "name": "stdout",
     "output_type": "stream",
     "text": [
      "1\n"
     ]
    }
   ],
   "source": [
    "tupla = (4,\"Hola\",6.35,[1,2,3,5],9,4)\n",
    "\n",
    "print(tupla.count(6.35))"
   ]
  },
  {
   "cell_type": "markdown",
   "id": "9d066511",
   "metadata": {},
   "source": [
    "__Con la función len nos dice cuantos elementos tiene la tupla__"
   ]
  },
  {
   "cell_type": "code",
   "execution_count": 15,
   "id": "2c085b52",
   "metadata": {},
   "outputs": [
    {
     "name": "stdout",
     "output_type": "stream",
     "text": [
      "6\n"
     ]
    }
   ],
   "source": [
    "tupla = (4,\"Hola\",6.35,[1,2,3,5],9,4)\n",
    "\n",
    "print(len(tupla))"
   ]
  },
  {
   "cell_type": "markdown",
   "id": "2e2bae96",
   "metadata": {},
   "source": [
    "__Transformar TUPLAS en LISTAS y LISTAS en TUPLAS__\n",
    "* Usamos la función __list__\n",
    "* Usamos la función __tuple__"
   ]
  },
  {
   "cell_type": "markdown",
   "id": "3cbc8406",
   "metadata": {},
   "source": [
    "__De TUPLA a LISTA__"
   ]
  },
  {
   "cell_type": "code",
   "execution_count": 23,
   "id": "5a00d4fb",
   "metadata": {},
   "outputs": [
    {
     "name": "stdout",
     "output_type": "stream",
     "text": [
      "Observe como es la relación de una tupla, va entre paréntesis:\n",
      " (4, 'Hola', 6.35, [1, 2, 3, 5], 9, 4)\n",
      "Observe como es la relación de una lista, va entre corchetes :\n",
      " [4, 'Hola', 6.35, [1, 2, 3, 5], 9, 4]\n"
     ]
    }
   ],
   "source": [
    "tupla = (4,\"Hola\",6.35,[1,2,3,5],9,4)\n",
    "lista = (list(tupla))\n",
    "\n",
    "print(\"Observe como es la relación de una tupla, va entre paréntesis:\\n\", tupla)\n",
    "print(\"Observe como es la relación de una lista, va entre corchetes :\\n\",lista)"
   ]
  },
  {
   "cell_type": "markdown",
   "id": "0a8c1932",
   "metadata": {},
   "source": [
    "__De LISTA a TUPLA__"
   ]
  },
  {
   "cell_type": "code",
   "execution_count": 24,
   "id": "15d1cb15",
   "metadata": {},
   "outputs": [
    {
     "name": "stdout",
     "output_type": "stream",
     "text": [
      "Observe como es la relación de una lista, va entre corchete:\n",
      " [4, 'Hola', 6.35, [1, 2, 3, 5], 9, 4]\n",
      "Observe como es la relación de una tupla, va entre paréntesis :\n",
      " (4, 'Hola', 6.35, [1, 2, 3, 5], 9, 4)\n"
     ]
    }
   ],
   "source": [
    "lista = [4,\"Hola\",6.35,[1,2,3,5],9,4]\n",
    "tupla = (tuple(lista))\n",
    "\n",
    "print(\"Observe como es la relación de una lista, va entre corchete:\\n\", lista)\n",
    "print(\"Observe como es la relación de una tupla, va entre paréntesis :\\n\",tupla)"
   ]
  },
  {
   "cell_type": "code",
   "execution_count": 25,
   "id": "9f1965ba",
   "metadata": {},
   "outputs": [
    {
     "name": "stdout",
     "output_type": "stream",
     "text": [
      "[2, 3, 'práctica', 1, 4, 2, ['a,b,c'], 5, 7, 6, 2]\n",
      "(2, 3, 'práctica', 1, 4, 2, ['a,b,c'], 5, 7, 6, 2)\n"
     ]
    }
   ],
   "source": [
    "tupla = (2,3,\"práctica\",1,4,2,[\"a,b,c\",],5,7,6,2)\n",
    "\n",
    "# de TUPLA a LISTA\n",
    "\n",
    "lista = (list(tupla))\n",
    "\n",
    "print(lista)\n",
    "\n",
    "lista = [2, 3, 'práctica', 1, 4, 2, ['a,b,c'], 5, 7, 6, 2]\n",
    "# DE LISTA a TUPLA\n",
    "\n",
    "tupla = (tuple(lista))\n",
    "\n",
    "print(tupla)"
   ]
  },
  {
   "cell_type": "markdown",
   "id": "6db9af46",
   "metadata": {},
   "source": [
    "*Zeev"
   ]
  }
 ],
 "metadata": {
  "kernelspec": {
   "display_name": "Python 3 (ipykernel)",
   "language": "python",
   "name": "python3"
  },
  "language_info": {
   "codemirror_mode": {
    "name": "ipython",
    "version": 3
   },
   "file_extension": ".py",
   "mimetype": "text/x-python",
   "name": "python",
   "nbconvert_exporter": "python",
   "pygments_lexer": "ipython3",
   "version": "3.10.9"
  }
 },
 "nbformat": 4,
 "nbformat_minor": 5
}
