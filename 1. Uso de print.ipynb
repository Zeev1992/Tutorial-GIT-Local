{
 "cells": [
  {
   "cell_type": "markdown",
   "id": "8f761ee2",
   "metadata": {},
   "source": [
    "# Uso de print"
   ]
  },
  {
   "cell_type": "markdown",
   "id": "ed231cc7",
   "metadata": {},
   "source": [
    "El comando \"print\" imprime en pantalla, nos lo muestra, para ejecutarlo:\n",
    "se escribe el siguiente formarto: __print(\"¡Holaaaaaaaaaaaaaaaaa!\")__\n",
    "__Nota:__ cuando es texto va entre comillas dentro del paréntesis."
   ]
  },
  {
   "cell_type": "code",
   "execution_count": 3,
   "id": "d2888c3d",
   "metadata": {},
   "outputs": [
    {
     "name": "stdout",
     "output_type": "stream",
     "text": [
      "¡Holaaaaaaaaaaaaaaaaaaaaaaaaaaa!\n"
     ]
    }
   ],
   "source": [
    "print(\"¡Holaaaaaaaaaaaaaaaaaaaaaaaaaaa!\")"
   ]
  },
  {
   "cell_type": "markdown",
   "id": "8a882706",
   "metadata": {},
   "source": [
    "Cuando son números van sin comillas dentro del paréntesis: __print(551992)__"
   ]
  },
  {
   "cell_type": "code",
   "execution_count": 1,
   "id": "3af054fb",
   "metadata": {},
   "outputs": [
    {
     "name": "stdout",
     "output_type": "stream",
     "text": [
      "551992\n"
     ]
    }
   ],
   "source": [
    "print(551992)"
   ]
  },
  {
   "cell_type": "markdown",
   "id": "f6c73b3e",
   "metadata": {},
   "source": [
    "Para encadenar texto y números:\n",
    "- print('Número de celular: 5529440115 \"diez dígitos\"')"
   ]
  },
  {
   "cell_type": "code",
   "execution_count": 4,
   "id": "60daf28a",
   "metadata": {},
   "outputs": [
    {
     "name": "stdout",
     "output_type": "stream",
     "text": [
      "Número de celular: 5529440115 \"diez dígitos\"\n"
     ]
    }
   ],
   "source": [
    "print('Número de celular: 5529440115 \"diez dígitos\"')"
   ]
  },
  {
   "cell_type": "markdown",
   "id": "3d6ccf72",
   "metadata": {},
   "source": [
    "Operaciones aritméticas: print(\"200+100 =\", 200+100)"
   ]
  },
  {
   "cell_type": "code",
   "execution_count": 5,
   "id": "ec8ea35c",
   "metadata": {},
   "outputs": [
    {
     "name": "stdout",
     "output_type": "stream",
     "text": [
      "200+100 = 300\n"
     ]
    }
   ],
   "source": [
    "print(\"200+100 =\", 200+100)"
   ]
  },
  {
   "cell_type": "markdown",
   "id": "952ec068",
   "metadata": {},
   "source": [
    "El comando \"strings\" se ocupa para cadena de textos\n",
    "- uso de la \\ (barra invertida) print(\"Mi nombre artístico es: \\\"Zeev\\\" \")"
   ]
  },
  {
   "cell_type": "code",
   "execution_count": 6,
   "id": "02da3238",
   "metadata": {},
   "outputs": [
    {
     "name": "stdout",
     "output_type": "stream",
     "text": [
      "Mi nombre artístico es: \"Zeev\" \n"
     ]
    }
   ],
   "source": [
    "print(\"Mi nombre artístico es: \\\"Zeev\\\" \")"
   ]
  },
  {
   "cell_type": "markdown",
   "id": "109ff6d5",
   "metadata": {},
   "source": [
    "Para que lo muestre en dos líneas: print(\"Esta es una línea \\nY esta es otra línea\")"
   ]
  },
  {
   "cell_type": "code",
   "execution_count": 7,
   "id": "4424a89d",
   "metadata": {},
   "outputs": [
    {
     "name": "stdout",
     "output_type": "stream",
     "text": [
      "Esta es una línea \n",
      "Y esta es otra línea\n"
     ]
    }
   ],
   "source": [
    "print(\"Esta es una línea \\nY esta es otra línea\")"
   ]
  },
  {
   "cell_type": "markdown",
   "id": "786edbed",
   "metadata": {},
   "source": [
    "Para escribirle una tilde a una letra, cuando se utilizan comillas simples"
   ]
  },
  {
   "cell_type": "code",
   "execution_count": 8,
   "id": "1c418848",
   "metadata": {},
   "outputs": [
    {
     "name": "stdout",
     "output_type": "stream",
     "text": [
      "H' es el nombre del Todopoderoso\n"
     ]
    }
   ],
   "source": [
    "print('H\\' es el nombre del Todopoderoso')"
   ]
  },
  {
   "cell_type": "markdown",
   "id": "e7f55627",
   "metadata": {},
   "source": [
    "Para escribirle una tilde a una letra, cuando se utilizan comillas dobles"
   ]
  },
  {
   "cell_type": "code",
   "execution_count": 9,
   "id": "f36ea443",
   "metadata": {},
   "outputs": [
    {
     "name": "stdout",
     "output_type": "stream",
     "text": [
      "H' es el nombre del Todopoderoso\n"
     ]
    }
   ],
   "source": [
    "print(\"H' es el nombre del Todopoderoso\")"
   ]
  },
  {
   "cell_type": "markdown",
   "id": "e7465ac8",
   "metadata": {},
   "source": [
    "Como escribir una barra invertida __y que NO__ la tome como operador: __print('Esta es una barra invertida \\\\')__"
   ]
  },
  {
   "cell_type": "code",
   "execution_count": 11,
   "id": "6574c80c",
   "metadata": {},
   "outputs": [
    {
     "name": "stdout",
     "output_type": "stream",
     "text": [
      "Esta es una barra invertida \\\n"
     ]
    }
   ],
   "source": [
    "print('Esta es una barra invertida \\\\')"
   ]
  },
  {
   "cell_type": "markdown",
   "id": "635cddf3",
   "metadata": {},
   "source": [
    "Ejercicios para mostrar en líneas: __print(\"Línea 1\\nLínea 2\\nLínea 3\")__"
   ]
  },
  {
   "cell_type": "code",
   "execution_count": 12,
   "id": "20873302",
   "metadata": {},
   "outputs": [
    {
     "name": "stdout",
     "output_type": "stream",
     "text": [
      "Línea 1\n",
      "Línea 2\n",
      "Línea 3\n"
     ]
    }
   ],
   "source": [
    "print(\"Línea 1\\nLínea 2\\nLínea 3\")"
   ]
  },
  {
   "cell_type": "markdown",
   "id": "dd6c2548",
   "metadata": {},
   "source": [
    "__Ejemplo 1:__\n",
    "- print(\"1 |  A   B   C\\n2 |  D   E   F\\n3 |  G   H   I\\n\")"
   ]
  },
  {
   "cell_type": "code",
   "execution_count": 14,
   "id": "b225fd36",
   "metadata": {},
   "outputs": [
    {
     "name": "stdout",
     "output_type": "stream",
     "text": [
      "1 |  A   B   C\n",
      "2 |  D   E   F\n",
      "3 |  G   H   I\n",
      "\n"
     ]
    }
   ],
   "source": [
    "print(\"1 |  A   B   C\\n2 |  D   E   F\\n3 |  G   H   I\\n\")"
   ]
  },
  {
   "cell_type": "markdown",
   "id": "b96892f4",
   "metadata": {},
   "source": [
    "__Ejemplo 2:__\n",
    "- print(\"1 |\" + \"  \" 'A' + \"   \" 'B' + \"   \" 'C')\n",
    "- print(\"2 |\" + \"  \" 'D' + \"   \" 'E' + \"   \" 'F')\n",
    "- print(\"3 |\" + \"  \" 'G' + \"   \" 'H' + \"   \" 'I')"
   ]
  },
  {
   "cell_type": "code",
   "execution_count": 15,
   "id": "caf99c2a",
   "metadata": {},
   "outputs": [
    {
     "name": "stdout",
     "output_type": "stream",
     "text": [
      "1 |  A   B   C\n",
      "2 |  D   E   F\n",
      "3 |  G   H   I\n"
     ]
    }
   ],
   "source": [
    "print(\"1 |\" + \"  \" 'A' + \"   \" 'B' + \"   \" 'C')\n",
    "print(\"2 |\" + \"  \" 'D' + \"   \" 'E' + \"   \" 'F')\n",
    "print(\"3 |\" + \"  \" 'G' + \"   \" 'H' + \"   \" 'I')"
   ]
  },
  {
   "cell_type": "markdown",
   "id": "97940d2f",
   "metadata": {},
   "source": [
    "__Ejemplo 3:__\n",
    "- print(\"A\\tB\\tC\\nD\\tE\\tF\\nG\\tH\\tI\")"
   ]
  },
  {
   "cell_type": "code",
   "execution_count": 16,
   "id": "5782433b",
   "metadata": {},
   "outputs": [
    {
     "name": "stdout",
     "output_type": "stream",
     "text": [
      "A\tB\tC\n",
      "D\tE\tF\n",
      "G\tH\tI\n"
     ]
    }
   ],
   "source": [
    "print(\"A\\tB\\tC\\nD\\tE\\tF\\nG\\tH\\tI\")"
   ]
  },
  {
   "cell_type": "markdown",
   "id": "0b670964",
   "metadata": {},
   "source": [
    "Crear un código que imprima en pantalla: __print(\"Barra normal: / Barra invertida: \\\\\")__"
   ]
  },
  {
   "cell_type": "code",
   "execution_count": 17,
   "id": "26222979",
   "metadata": {},
   "outputs": [
    {
     "name": "stdout",
     "output_type": "stream",
     "text": [
      "Barra normal: / Barra invertida: \\\n"
     ]
    }
   ],
   "source": [
    "print(\"Barra normal: / Barra invertida: \\\\\")"
   ]
  },
  {
   "cell_type": "markdown",
   "id": "2a781575",
   "metadata": {},
   "source": [
    "#### autor\n",
    "zeev"
   ]
  }
 ],
 "metadata": {
  "kernelspec": {
   "display_name": "Python 3 (ipykernel)",
   "language": "python",
   "name": "python3"
  },
  "language_info": {
   "codemirror_mode": {
    "name": "ipython",
    "version": 3
   },
   "file_extension": ".py",
   "mimetype": "text/x-python",
   "name": "python",
   "nbconvert_exporter": "python",
   "pygments_lexer": "ipython3",
   "version": "3.10.9"
  }
 },
 "nbformat": 4,
 "nbformat_minor": 5
}
