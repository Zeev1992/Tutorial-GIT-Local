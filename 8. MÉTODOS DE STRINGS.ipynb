{
 "cells": [
  {
   "cell_type": "markdown",
   "id": "190e1b88",
   "metadata": {},
   "source": [
    "# MÉTODOS DE STRINGS\n",
    "Los strings (cadenas de caracteres) también tienen varios métodos incorporados que se pueden utilizar para manipular y realizar operaciones en ellos."
   ]
  },
  {
   "cell_type": "markdown",
   "id": "1ca2f780",
   "metadata": {},
   "source": [
    "* __upper() pasar a mayúsculas__ | lower() pasar a minúsculas | __split() separalo en partes (lista)__\n",
    "* __join() unir items usando separador__ | find() encontrar un sub string | __replace() reemplazar substring__"
   ]
  },
  {
   "cell_type": "markdown",
   "id": "cbe70d6a",
   "metadata": {},
   "source": [
    "CONVERTIR TODO EN MAYÚSCULAS"
   ]
  },
  {
   "cell_type": "code",
   "execution_count": 2,
   "id": "ee8fa32d",
   "metadata": {},
   "outputs": [
    {
     "name": "stdout",
     "output_type": "stream",
     "text": [
      "Este es el texto de Itzjak\n",
      "ESTE ES EL TEXTO DE ITZJAK\n"
     ]
    }
   ],
   "source": [
    "texto = \"Este es el texto de Itzjak\"\n",
    "resultado = texto.upper()\n",
    "print(texto)\n",
    "print(resultado)"
   ]
  },
  {
   "cell_type": "markdown",
   "id": "7be940ca",
   "metadata": {},
   "source": [
    "CONVERTIR TODO EN MINÚSCULAS"
   ]
  },
  {
   "cell_type": "code",
   "execution_count": 3,
   "id": "b242183a",
   "metadata": {},
   "outputs": [
    {
     "name": "stdout",
     "output_type": "stream",
     "text": [
      "ESTE ES EL TEXTO\n",
      "este es el texto\n"
     ]
    }
   ],
   "source": [
    "texto = \"ESTE ES EL TEXTO\"\n",
    "resultado = texto.lower()\n",
    "print(texto)\n",
    "print(resultado)"
   ]
  },
  {
   "cell_type": "markdown",
   "id": "c85cf3c2",
   "metadata": {},
   "source": [
    "CONVERTIR EL TEXTO: CADA PALABRA ENTRE COMILLAS SIMPLES Y TODO ENTRE CORCHETES"
   ]
  },
  {
   "cell_type": "code",
   "execution_count": 4,
   "id": "71b3de2d",
   "metadata": {},
   "outputs": [
    {
     "name": "stdout",
     "output_type": "stream",
     "text": [
      "ESTE ES EL TEXTO\n",
      "['ESTE', 'ES', 'EL', 'TEXTO']\n"
     ]
    }
   ],
   "source": [
    "texto = \"ESTE ES EL TEXTO\"\n",
    "resultado = texto.split()\n",
    "print(texto)\n",
    "print(resultado)"
   ]
  },
  {
   "cell_type": "markdown",
   "id": "f77804ea",
   "metadata": {},
   "source": [
    "LA FUNCIÓN __.join__ UNE LOS ELEMENTOS DE UN ITERABLE (COMO UNA LISTA) EN UN SOLO STRING, UTILIZANDO EL STRING COMO SEPARADOR."
   ]
  },
  {
   "cell_type": "code",
   "execution_count": 5,
   "id": "8d9484ec",
   "metadata": {},
   "outputs": [
    {
     "name": "stdout",
     "output_type": "stream",
     "text": [
      "¡Aprender Python es genial!\n"
     ]
    }
   ],
   "source": [
    "a = \"¡Aprender\"\n",
    "b = \"Python\"\n",
    "c = \"es\"\n",
    "d = \"genial!\"\n",
    "e = \" \".join([a,b,c,d])\n",
    "print(e)"
   ]
  },
  {
   "cell_type": "markdown",
   "id": "55284a2c",
   "metadata": {},
   "source": [
    "La función __.find__ Devuelve la posición de la primera aparición de la subcadena en el string. Si no se encuentra, devuelve -1"
   ]
  },
  {
   "cell_type": "code",
   "execution_count": 6,
   "id": "745e93d3",
   "metadata": {},
   "outputs": [
    {
     "name": "stdout",
     "output_type": "stream",
     "text": [
      "-1\n"
     ]
    }
   ],
   "source": [
    "texto = \"Este es el texto de Joshej\"\n",
    "resultado = texto.find(\"a\")\n",
    "print(resultado)"
   ]
  },
  {
   "cell_type": "code",
   "execution_count": 7,
   "id": "f257ca98",
   "metadata": {},
   "outputs": [
    {
     "name": "stdout",
     "output_type": "stream",
     "text": [
      "21\n"
     ]
    }
   ],
   "source": [
    "texto = \"Este es el texto de Sará\"\n",
    "resultado = texto.find(\"a\")\n",
    "print(resultado)"
   ]
  },
  {
   "cell_type": "markdown",
   "id": "1bcd281e",
   "metadata": {},
   "source": [
    "La función __.replace__. Devuelve una copia del string reemplazando todas las apariciones de la subcadena \"Joshej\" por la subcadena \"Emet\"."
   ]
  },
  {
   "cell_type": "code",
   "execution_count": 10,
   "id": "6389aecb",
   "metadata": {},
   "outputs": [
    {
     "name": "stdout",
     "output_type": "stream",
     "text": [
      "Texto con el cambio:  Este es el texto de Emet\n",
      "texto original:  Este es el texto de Joshej\n"
     ]
    }
   ],
   "source": [
    "texto = \"Este es el texto de Joshej\"\n",
    "resultado = texto.replace(\"Joshej\",\"Emet\")\n",
    "print(\"Texto con el cambio: \", resultado)\n",
    "print(\"texto original: \", texto)"
   ]
  },
  {
   "cell_type": "code",
   "execution_count": 12,
   "id": "3ebd78a6",
   "metadata": {},
   "outputs": [
    {
     "name": "stdout",
     "output_type": "stream",
     "text": [
      "Texto original:  Si la implementación es difícil de explicar, puede que sea una mala idea.\n",
      "Texto con el reemplazo:  Si la implementación es fácil de explicar, puede que sea una buena idea.\n"
     ]
    }
   ],
   "source": [
    "texto = \"Si la implementación es difícil de explicar, puede que sea una mala idea.\"\n",
    "remplace = texto.replace(\"difícil de explicar, puede que sea una mala\",\"fácil de explicar, puede que sea una buena\")\n",
    "print(\"Texto original: \", texto)\n",
    "print(\"Texto con el reemplazo: \", remplace)"
   ]
  },
  {
   "cell_type": "markdown",
   "id": "fdc44234",
   "metadata": {},
   "source": [
    "__PROPIEDADES STRING__"
   ]
  },
  {
   "cell_type": "code",
   "execution_count": 16,
   "id": "9756b73c",
   "metadata": {},
   "outputs": [
    {
     "name": "stdout",
     "output_type": "stream",
     "text": [
      "Karina\n"
     ]
    }
   ],
   "source": [
    "nombre = \"Carina\"\n",
    "nombre = \"Karina\"\n",
    "print(nombre)"
   ]
  },
  {
   "cell_type": "code",
   "execution_count": 17,
   "id": "19830e05",
   "metadata": {},
   "outputs": [
    {
     "name": "stdout",
     "output_type": "stream",
     "text": [
      "Dina\n"
     ]
    }
   ],
   "source": [
    "n1 = \"Di\"\n",
    "n2 = \"na\"\n",
    "print(n1 + n2)"
   ]
  },
  {
   "cell_type": "code",
   "execution_count": 18,
   "id": "66a2fe8c",
   "metadata": {},
   "outputs": [
    {
     "name": "stdout",
     "output_type": "stream",
     "text": [
      "nanananananana\n"
     ]
    }
   ],
   "source": [
    "print(n2 * 7)"
   ]
  },
  {
   "cell_type": "code",
   "execution_count": 24,
   "id": "7e251d9b",
   "metadata": {},
   "outputs": [
    {
     "name": "stdout",
     "output_type": "stream",
     "text": [
      "Mil pequeños peces blancos\n",
      "como si hirviera\n",
      "el color del agua\n",
      "Existe la palabra agua en el poema: True\n",
      "No existe la palabra peces en el poema:  False\n",
      "Cuántos caracteres hay en el poema?:\n",
      "61\n"
     ]
    }
   ],
   "source": [
    "poema = \"\"\"Mil pequeños peces blancos\n",
    "como si hirviera\n",
    "el color del agua\"\"\"\n",
    "print(poema)\n",
    "print(\"Existe la palabra agua en el poema:\", \"agua\" in poema)\n",
    "print(\"No existe la palabra peces en el poema: \", \"peces\" not in poema)\n",
    "print(\"Cuántos caracteres hay en el poema?:\")\n",
    "print(len(poema))"
   ]
  },
  {
   "cell_type": "markdown",
   "id": "97c7b7b7",
   "metadata": {},
   "source": [
    "###### Autor\n",
    "zeev1992"
   ]
  }
 ],
 "metadata": {
  "kernelspec": {
   "display_name": "Python 3 (ipykernel)",
   "language": "python",
   "name": "python3"
  },
  "language_info": {
   "codemirror_mode": {
    "name": "ipython",
    "version": 3
   },
   "file_extension": ".py",
   "mimetype": "text/x-python",
   "name": "python",
   "nbconvert_exporter": "python",
   "pygments_lexer": "ipython3",
   "version": "3.10.9"
  }
 },
 "nbformat": 4,
 "nbformat_minor": 5
}
