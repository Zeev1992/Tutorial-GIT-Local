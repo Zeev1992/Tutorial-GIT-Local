{
 "cells": [
  {
   "cell_type": "markdown",
   "id": "3bc53232",
   "metadata": {},
   "source": [
    "# Control de flujo\n",
    "Se refiere a la capacidad de dirigir la ejecución de un programa hacia diferentes secciones de código basándose en ciertas condiciones. Esto permite que el programa tome decisiones y realice acciones específicas dependiendo de los datos de entrada, valores de variables o resultados de operaciones.\n",
    "* __Declaraciones condicionales (if, else, elif):__ Permiten ejecutar bloques de código si se cumple una condición específica. __El bloque 'if'__ se ejecuta si la condición es verdadera, __el bloque 'else'__ se ejecuta si la condición del __'if'__ es falsa, y __'elif'__ (abreviatura de \"else if\") permite evaluar condiciones adicionales en caso de que las anteriores no sean verdaderas.\n",
    "* __Bucles (loops):__ Los bucles permiten repetir un bloque de código múltiples veces mientras se cumpla una condición determinada. En Python, los bucles más comunes son:\n",
    "     - __Bucle 'while':__ Repite el bloque de código mientras una condición sea verdadera.\n",
    "     - __Bucle 'for':__ Itera sobre una secuencia (como listas, tuplas, diccionarios, etc.) y ejecuta el bloque de código para cada elemento de la secuencia.\n",
    " * __Control de flujo especial:__ Python también ofrece algunas declaraciones especiales de control de flujo, como 'break' y 'continue'. 'break' se utiliza para salir de un bucle prematuramente, mientras que 'continue' se emplea para pasar a la siguiente iteración del bucle sin ejecutar el resto del código en esa iteración.\n",
    "* El control de flujo es esencial para estructurar el comportamiento de los programas y permitir que se adapten a diferentes situaciones. Con estas estructuras, los programadores pueden hacer que sus programas tomen decisiones lógicas y realicen tareas repetitivas de manera más eficiente y efectiva."
   ]
  },
  {
   "cell_type": "code",
   "execution_count": 1,
   "id": "3bf88c9f",
   "metadata": {},
   "outputs": [
    {
     "name": "stdout",
     "output_type": "stream",
     "text": [
      "Es correcto\n"
     ]
    }
   ],
   "source": [
    "if 100 > 99:\n",
    "    print('Es correcto')"
   ]
  },
  {
   "cell_type": "code",
   "execution_count": 2,
   "id": "9ce71243",
   "metadata": {},
   "outputs": [
    {
     "name": "stdout",
     "output_type": "stream",
     "text": [
      "Es verdadero\n"
     ]
    }
   ],
   "source": [
    "x = True\n",
    "if x:\n",
    "    print('Es verdadero')"
   ]
  },
  {
   "cell_type": "markdown",
   "id": "2a60b7b2",
   "metadata": {},
   "source": [
    "* __Al no ser verdadera la comparación, Python no arroja ningún resultado__"
   ]
  },
  {
   "cell_type": "code",
   "execution_count": 5,
   "id": "0e1ee8be",
   "metadata": {},
   "outputs": [],
   "source": [
    "if 100 == 99:\n",
    "    print('Es verdadero')"
   ]
  },
  {
   "cell_type": "markdown",
   "id": "331ae5f0",
   "metadata": {},
   "source": [
    "* __Al no arrojar ningún resultado, agregamos otra órden con 'else' (si no) para que indique que no es verdadero o correcto__"
   ]
  },
  {
   "cell_type": "code",
   "execution_count": 6,
   "id": "1a6b6efe",
   "metadata": {},
   "outputs": [
    {
     "name": "stdout",
     "output_type": "stream",
     "text": [
      "No es verdadero\n"
     ]
    }
   ],
   "source": [
    "if 100 == 99:\n",
    "    print('Es verdadero')\n",
    "    \n",
    "# Debemos agregar el 'else' (si no) para que pueda mostrarnos una respuesta\n",
    "\n",
    "else:\n",
    "    print(\"No es verdadero\")"
   ]
  },
  {
   "cell_type": "code",
   "execution_count": 7,
   "id": "67b0aaed",
   "metadata": {},
   "outputs": [
    {
     "name": "stdout",
     "output_type": "stream",
     "text": [
      "Tu mascota no es un jatul\n"
     ]
    }
   ],
   "source": [
    "mascota = \"kelev\"\n",
    "\n",
    "if mascota == \"jatul\":\n",
    "    print(\"Tu mascota es un jatul\")\n",
    "else:\n",
    "    print(\"Tu mascota no es un jatul\")"
   ]
  },
  {
   "cell_type": "code",
   "execution_count": 8,
   "id": "7bc6a411",
   "metadata": {},
   "outputs": [
    {
     "name": "stdout",
     "output_type": "stream",
     "text": [
      "Tu mascota es un kelev\n"
     ]
    }
   ],
   "source": [
    "mascota = \"kelev\"\n",
    "\n",
    "if mascota == \"jatul\":\n",
    "    print(\"Tu mascota es un jatul\")\n",
    "# Usamos la función elif\n",
    "elif mascota == \"kelev\":\n",
    "    print(\"Tu mascota es un kelev\")\n",
    "else:\n",
    "    print(\"Tu mascota no es un jatul\")"
   ]
  },
  {
   "cell_type": "code",
   "execution_count": 9,
   "id": "79b04945",
   "metadata": {},
   "outputs": [
    {
     "name": "stdout",
     "output_type": "stream",
     "text": [
      "Tu mascota es un kelev\n"
     ]
    }
   ],
   "source": [
    "mascota = \"kelev\"\n",
    "\n",
    "if mascota == \"jatul\":\n",
    "    print(\"Tu mascota es un jatul\")\n",
    "# Usamos la función elif\n",
    "elif mascota == \"kelev\":\n",
    "    print(\"Tu mascota es un kelev\")\n",
    "# Usamos otra opción con elif\n",
    "elif mascota == \"dag\":\n",
    "    print(\"Tu mascota es un dag\")\n",
    "else:\n",
    "    print(\"Tu mascota no es un jatul\")"
   ]
  },
  {
   "cell_type": "code",
   "execution_count": 1,
   "id": "d288d4ae",
   "metadata": {},
   "outputs": [
    {
     "name": "stdout",
     "output_type": "stream",
     "text": [
      "Dí en hebreo qué mascota tienes? kelev\n",
      "Tu mascota es un perro\n"
     ]
    }
   ],
   "source": [
    "mascota = input(\"Dí en hebreo qué mascota tienes? \")\n",
    "\n",
    "if mascota == \"jatul\":\n",
    "    print(\"Tu mascota es un gato\")\n",
    "# Usamos la función elif\n",
    "elif mascota == \"kelev\":\n",
    "    print(\"Tu mascota es un perro\")\n",
    "# Usamos otra opción con elif\n",
    "elif mascota == \"dag\":\n",
    "    print(\"Tu mascota es un pez\")\n",
    "else:\n",
    "    print(\"No reconozco que mascota tienes\")"
   ]
  },
  {
   "cell_type": "code",
   "execution_count": 3,
   "id": "85e293ee",
   "metadata": {},
   "outputs": [
    {
     "name": "stdout",
     "output_type": "stream",
     "text": [
      "Qúe edad tienes? 19\n",
      "¡Eres adulto!\n"
     ]
    }
   ],
   "source": [
    "edad = input(\"Qúe edad tienes? \")\n",
    "edad_entero = int(edad)\n",
    "\n",
    "if edad_entero < 18:\n",
    "    print(\"¡Eres menor de edad!\")\n",
    "else:\n",
    "    print(\"¡Eres adulto!\")"
   ]
  },
  {
   "cell_type": "code",
   "execution_count": 4,
   "id": "606b5115",
   "metadata": {},
   "outputs": [
    {
     "name": "stdout",
     "output_type": "stream",
     "text": [
      "Qé calificación obtuviste? 5\n",
      "¡LÁSTIMA, REPROBASTE!\n"
     ]
    }
   ],
   "source": [
    "calificación = input(\"Qé calificación obtuviste? \")\n",
    "cal_int = int(calificación)\n",
    "if cal_int <=5:\n",
    "    print(\"¡LÁSTIMA, REPROBASTE!\")\n",
    "elif cal_int > 8:\n",
    "        print(\"¡FELICIDADES, APROBASTE CON EXCELENCIA!\")\n",
    "else:\n",
    "    print(\"¡FELICIDADES, APROBASTE!\")"
   ]
  },
  {
   "cell_type": "code",
   "execution_count": 6,
   "id": "ad2e404d",
   "metadata": {},
   "outputs": [
    {
     "name": "stdout",
     "output_type": "stream",
     "text": [
      "Ingresa un número:10\n",
      "Ingresa otro número:8\n",
      "10 es mayor que 8\n"
     ]
    }
   ],
   "source": [
    "num1 = int(input(\"Ingresa un número:\"))\n",
    "num2 = int(input(\"Ingresa otro número:\"))\n",
    "if num1 > num2:\n",
    "    print(f\"{num1} es mayor que {num2}\")\n",
    "elif num2 > num1:\n",
    "    print(f\"{num2} es mayor que {num1}\")\n",
    "else:\n",
    "    print(f\"{num1} es igual a {num2}\")"
   ]
  },
  {
   "cell_type": "code",
   "execution_count": 13,
   "id": "48f1d687",
   "metadata": {},
   "outputs": [
    {
     "name": "stdout",
     "output_type": "stream",
     "text": [
      "No puedes conducir aún. Debes tener 18 años y contar con una licencia\n"
     ]
    }
   ],
   "source": [
    "edad = 16\n",
    "tiene_licencia = False\n",
    "\n",
    "if edad > 17: \n",
    "    print(\"Puedes conducir\")\n",
    "\n",
    "elif edad < 18:\n",
    "    print(\"No puedes conducir aún. Debes tener 18 años y contar con una licencia\")\n",
    "    \n",
    "else:\n",
    "    print(\"No puedes conducir. Necesitas contar con una licencia\")"
   ]
  },
  {
   "cell_type": "code",
   "execution_count": 14,
   "id": "ed91d161",
   "metadata": {},
   "outputs": [
    {
     "name": "stdout",
     "output_type": "stream",
     "text": [
      "Cumples con los requisitos para postularte\n"
     ]
    }
   ],
   "source": [
    "habla_ingles = True\n",
    "sabe_python = False\n",
    "\n",
    "if habla_ingles:\n",
    "    print(\"Cumples con los requisitos para postularte\")\n",
    "    \n",
    "elif sabe_python:\n",
    "    print(\"Para postularte, necesitas saber programar en Python y tener conocimientos de inglés\")\n",
    "elif habla_ingles:\n",
    "    print(\"Para postularte, necesitas tener conocimientos de inglés\")\n",
    "else:\n",
    "    print(\"Para postularte, necesitas saber programar en Python\")"
   ]
  },
  {
   "cell_type": "markdown",
   "id": "18485128",
   "metadata": {},
   "source": [
    "*Zeev"
   ]
  }
 ],
 "metadata": {
  "kernelspec": {
   "display_name": "Python 3 (ipykernel)",
   "language": "python",
   "name": "python3"
  },
  "language_info": {
   "codemirror_mode": {
    "name": "ipython",
    "version": 3
   },
   "file_extension": ".py",
   "mimetype": "text/x-python",
   "name": "python",
   "nbconvert_exporter": "python",
   "pygments_lexer": "ipython3",
   "version": "3.10.9"
  }
 },
 "nbformat": 4,
 "nbformat_minor": 5
}
