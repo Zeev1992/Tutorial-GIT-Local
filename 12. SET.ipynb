{
 "cells": [
  {
   "cell_type": "markdown",
   "id": "2f857f9a",
   "metadata": {},
   "source": [
    "# SET\n",
    "En Python, set es una estructura de datos que representa una colección desordenada de elementos únicos.\n",
    "* __Elementos únicos:__ Los conjuntos (set) en Python solo pueden contener elementos únicos. Esto significa que no puede haber duplicados dentro de un conjunto. Si se intenta agregar un elemento duplicado, se ignorará y no se agregará al conjunto.\n",
    "* __Desordenados:__ Los conjuntos no mantienen un orden específico de los elementos. Esto significa que no puede acceder a los elementos de un conjunto utilizando índices, ya que no están indexados. Si necesita un orden específico, puede convertir el conjunto en una lista utilizando la función 'list(set)'.\n",
    "* __Mutable:__ Los conjuntos son mutables, lo que significa que se pueden modificar después de crearlos. Puede agregar y eliminar elementos de un conjunto utilizando métodos específicos como __'add()', 'remove()', 'discard()', 'pop()'__, etc.\n",
    "* __Operaciones de conjuntos:__ Los conjuntos en Python también admiten operaciones de conjuntos, como la unión ('union()' o '|'), la intersección ('intersection()' o '&'), la diferencia ('difference()' o '-'), la diferencia simétrica ('symmetric_difference()' o '^'), etc. Estas operaciones le permiten combinar, comparar y manipular conjuntos de manera conveniente.\n",
    "* __No permite elementos mutables:__ Los elementos de un conjunto en Python deben ser inmutables, como enteros, cadenas, tuplas, etc. No puede tener elementos mutables como listas o conjuntos dentro de un conjunto, ya que los elementos del conjunto deben ser hashables.\n",
    "* __Hashable:__ Los elementos de un conjunto deben ser hashables, lo que significa que deben tener un valor hash único. Esto permite que Python realice búsquedas y verificaciones de pertenencia rápidas en los conjuntos.\n",
    "* Los conjuntos son útiles cuando se necesitan elementos únicos o cuando se requieren operaciones de conjuntos eficientes, como eliminación de duplicados, verificación de pertenencia o combinación de conjuntos."
   ]
  },
  {
   "cell_type": "markdown",
   "id": "f7c867f7",
   "metadata": {},
   "source": [
    "* __Utilizando paréntesis entre paréntesis__"
   ]
  },
  {
   "cell_type": "code",
   "execution_count": 5,
   "id": "55c82e04",
   "metadata": {
    "scrolled": true
   },
   "outputs": [
    {
     "name": "stdout",
     "output_type": "stream",
     "text": [
      "<class 'set'>\n",
      "{1, 2, 3, 4, 5, 6}\n"
     ]
    }
   ],
   "source": [
    "mi_set = set((1,2,3,4,5,6))\n",
    "print(type(mi_set))\n",
    "print(mi_set)"
   ]
  },
  {
   "cell_type": "markdown",
   "id": "9aae10e4",
   "metadata": {},
   "source": [
    "* __Utilizando corchetes entre paréntesis__"
   ]
  },
  {
   "cell_type": "code",
   "execution_count": 5,
   "id": "2c394035",
   "metadata": {},
   "outputs": [
    {
     "name": "stdout",
     "output_type": "stream",
     "text": [
      "<class 'set'>\n",
      "{1, 2, 3, 4, 5, 6}\n"
     ]
    }
   ],
   "source": [
    "mi_set = set([1,2,3,4,5,6])\n",
    "print(type(mi_set))\n",
    "print(mi_set)"
   ]
  },
  {
   "cell_type": "markdown",
   "id": "550dda47",
   "metadata": {},
   "source": [
    "* __Utilizando llaves__"
   ]
  },
  {
   "cell_type": "code",
   "execution_count": 6,
   "id": "5b2a3e74",
   "metadata": {},
   "outputs": [
    {
     "name": "stdout",
     "output_type": "stream",
     "text": [
      "<class 'set'>\n",
      "{1, 2, 3}\n"
     ]
    }
   ],
   "source": [
    "otro_set = {1,2,3,}\n",
    "print(type(otro_set))\n",
    "print(otro_set)"
   ]
  },
  {
   "cell_type": "markdown",
   "id": "244d0537",
   "metadata": {},
   "source": [
    "* __No se puede buscar un índice con: 'print(mi_set[1])' ni se puede modificar con: 'mi_set[2] = 4'__\n",
    "* __Qué si se puede hacer al ser elementos únicos, ni puede tener elemntos repetidos__\n",
    "* __Qué pasaría si tuviera elementos repetidos? -Elimina los elementos repetidos__"
   ]
  },
  {
   "cell_type": "code",
   "execution_count": 4,
   "id": "72cf009b",
   "metadata": {},
   "outputs": [
    {
     "name": "stdout",
     "output_type": "stream",
     "text": [
      "<class 'set'>\n",
      "{1, 2, 3, 4, 5}\n"
     ]
    }
   ],
   "source": [
    "mi_set = set((1,2,3,4,5,1,1,3,3,5))\n",
    "print(type(mi_set))\n",
    "print(mi_set)"
   ]
  },
  {
   "cell_type": "code",
   "execution_count": 7,
   "id": "247d1c09",
   "metadata": {},
   "outputs": [
    {
     "name": "stdout",
     "output_type": "stream",
     "text": [
      "<class 'set'>\n",
      "{1, 2, 3, 4, 5, 6, 7}\n"
     ]
    }
   ],
   "source": [
    "mi_set = set([1,2,3,4,5,6,7,1,1,3,3,5])\n",
    "print(type(mi_set))\n",
    "print(mi_set)"
   ]
  },
  {
   "cell_type": "markdown",
   "id": "c52e87ea",
   "metadata": {},
   "source": [
    "* __Si agrego una lista y es paréntesis entre paréntesis marca: typeError__"
   ]
  },
  {
   "cell_type": "code",
   "execution_count": 8,
   "id": "7f0bda34",
   "metadata": {},
   "outputs": [
    {
     "ename": "TypeError",
     "evalue": "unhashable type: 'list'",
     "output_type": "error",
     "traceback": [
      "\u001b[1;31m---------------------------------------------------------------------------\u001b[0m",
      "\u001b[1;31mTypeError\u001b[0m                                 Traceback (most recent call last)",
      "Cell \u001b[1;32mIn[8], line 1\u001b[0m\n\u001b[1;32m----> 1\u001b[0m mi_set \u001b[38;5;241m=\u001b[39m \u001b[38;5;28;43mset\u001b[39;49m\u001b[43m(\u001b[49m\u001b[43m(\u001b[49m\u001b[38;5;241;43m1\u001b[39;49m\u001b[43m,\u001b[49m\u001b[38;5;241;43m2\u001b[39;49m\u001b[43m,\u001b[49m\u001b[43m[\u001b[49m\u001b[38;5;241;43m5\u001b[39;49m\u001b[43m,\u001b[49m\u001b[38;5;241;43m4\u001b[39;49m\u001b[43m,\u001b[49m\u001b[38;5;241;43m3\u001b[39;49m\u001b[43m,\u001b[49m\u001b[38;5;241;43m2\u001b[39;49m\u001b[43m]\u001b[49m\u001b[43m,\u001b[49m\u001b[38;5;241;43m4\u001b[39;49m\u001b[43m,\u001b[49m\u001b[38;5;241;43m5\u001b[39;49m\u001b[43m,\u001b[49m\u001b[38;5;241;43m6\u001b[39;49m\u001b[43m)\u001b[49m\u001b[43m)\u001b[49m\n\u001b[0;32m      2\u001b[0m \u001b[38;5;28mprint\u001b[39m(\u001b[38;5;28mtype\u001b[39m(mi_set))\n\u001b[0;32m      3\u001b[0m \u001b[38;5;28mprint\u001b[39m(mi_set)\n",
      "\u001b[1;31mTypeError\u001b[0m: unhashable type: 'list'"
     ]
    }
   ],
   "source": [
    "mi_set = set((1,2,[5,4,3,2],4,5,6))\n",
    "print(type(mi_set))\n",
    "print(mi_set)"
   ]
  },
  {
   "cell_type": "markdown",
   "id": "de6cc39b",
   "metadata": {},
   "source": [
    "* __Si agrego una lista y es corchetes entre paréntesis marca: TypeError__"
   ]
  },
  {
   "cell_type": "code",
   "execution_count": 9,
   "id": "1cf71bab",
   "metadata": {},
   "outputs": [
    {
     "ename": "TypeError",
     "evalue": "unhashable type: 'list'",
     "output_type": "error",
     "traceback": [
      "\u001b[1;31m---------------------------------------------------------------------------\u001b[0m",
      "\u001b[1;31mTypeError\u001b[0m                                 Traceback (most recent call last)",
      "Cell \u001b[1;32mIn[9], line 1\u001b[0m\n\u001b[1;32m----> 1\u001b[0m mi_set \u001b[38;5;241m=\u001b[39m \u001b[38;5;28;43mset\u001b[39;49m\u001b[43m(\u001b[49m\u001b[43m[\u001b[49m\u001b[38;5;241;43m1\u001b[39;49m\u001b[43m,\u001b[49m\u001b[38;5;241;43m2\u001b[39;49m\u001b[43m,\u001b[49m\u001b[38;5;241;43m3\u001b[39;49m\u001b[43m,\u001b[49m\u001b[43m[\u001b[49m\u001b[38;5;241;43m10\u001b[39;49m\u001b[43m,\u001b[49m\u001b[38;5;241;43m9\u001b[39;49m\u001b[43m,\u001b[49m\u001b[38;5;241;43m8\u001b[39;49m\u001b[43m,\u001b[49m\u001b[38;5;241;43m7\u001b[39;49m\u001b[43m]\u001b[49m\u001b[43m,\u001b[49m\u001b[38;5;241;43m5\u001b[39;49m\u001b[43m,\u001b[49m\u001b[38;5;241;43m6\u001b[39;49m\u001b[43m,\u001b[49m\u001b[38;5;241;43m7\u001b[39;49m\u001b[43m]\u001b[49m\u001b[43m)\u001b[49m\n\u001b[0;32m      2\u001b[0m \u001b[38;5;28mprint\u001b[39m(\u001b[38;5;28mtype\u001b[39m(mi_set))\n\u001b[0;32m      3\u001b[0m \u001b[38;5;28mprint\u001b[39m(mi_set)\n",
      "\u001b[1;31mTypeError\u001b[0m: unhashable type: 'list'"
     ]
    }
   ],
   "source": [
    "mi_set = set([1,2,3,[10,9,8,7],5,6,7])\n",
    "print(type(mi_set))\n",
    "print(mi_set)"
   ]
  },
  {
   "cell_type": "markdown",
   "id": "2168cc9c",
   "metadata": {},
   "source": [
    "* __Si agregamos una tupla() en el formato paréntesis entre paréntesis, acepta la tupla por ser también un elemnto inmutable. Ordena el 'set' y después agrega la tupla.__"
   ]
  },
  {
   "cell_type": "code",
   "execution_count": 10,
   "id": "560aba23",
   "metadata": {},
   "outputs": [
    {
     "name": "stdout",
     "output_type": "stream",
     "text": [
      "<class 'set'>\n",
      "{1, 2, 3, 5, 6, 7, (10, 9, 8, 7)}\n"
     ]
    }
   ],
   "source": [
    "mi_set = set((1,2,3,(10,9,8,7),5,6,7))\n",
    "print(type(mi_set))\n",
    "print(mi_set)"
   ]
  },
  {
   "cell_type": "markdown",
   "id": "12ef3299",
   "metadata": {},
   "source": [
    "* __Si agregamos una tupla() en el formato corchetes entre paréntesis, acepta la tupla por ser también un elemnto inmutable.__"
   ]
  },
  {
   "cell_type": "code",
   "execution_count": 11,
   "id": "d4b0c50c",
   "metadata": {},
   "outputs": [
    {
     "name": "stdout",
     "output_type": "stream",
     "text": [
      "<class 'set'>\n",
      "{1, 2, 3, 5, 6, 7, (10, 9, 8, 7)}\n"
     ]
    }
   ],
   "source": [
    "mi_set = set([1,2,3,(10,9,8,7),5,6,7])\n",
    "print(type(mi_set))\n",
    "print(mi_set)"
   ]
  },
  {
   "cell_type": "markdown",
   "id": "316caa57",
   "metadata": {},
   "source": [
    "* __Podemos utilizar la función len__"
   ]
  },
  {
   "cell_type": "code",
   "execution_count": 12,
   "id": "af5d1f5b",
   "metadata": {},
   "outputs": [
    {
     "name": "stdout",
     "output_type": "stream",
     "text": [
      "<class 'set'>\n",
      "9\n",
      "{1, 2, 3, 4, 5, 6, 7, 8, 9}\n"
     ]
    }
   ],
   "source": [
    "mi_set = set((1,2,3,4,5,6,7,8,9))\n",
    "print(type(mi_set))\n",
    "print(len(mi_set))\n",
    "print(mi_set)"
   ]
  },
  {
   "cell_type": "markdown",
   "id": "3e228fb4",
   "metadata": {},
   "source": [
    "* __Realizar consultas__"
   ]
  },
  {
   "cell_type": "code",
   "execution_count": 14,
   "id": "a2bd6c7b",
   "metadata": {},
   "outputs": [
    {
     "name": "stdout",
     "output_type": "stream",
     "text": [
      "False\n"
     ]
    }
   ],
   "source": [
    "mi_set = set([1,2,3,4,5,6,7,8,9])\n",
    "print(0 in mi_set)"
   ]
  },
  {
   "cell_type": "markdown",
   "id": "cf357829",
   "metadata": {},
   "source": [
    "* __Unión de 'set'__"
   ]
  },
  {
   "cell_type": "code",
   "execution_count": 15,
   "id": "ad2730c0",
   "metadata": {},
   "outputs": [
    {
     "name": "stdout",
     "output_type": "stream",
     "text": [
      "{1, 2, 3, 4, 5}\n"
     ]
    }
   ],
   "source": [
    "s1 = {1,2,3}\n",
    "s2 = {3,4,5}\n",
    "s3 = s1.union(s2)\n",
    "print(s3)"
   ]
  },
  {
   "cell_type": "markdown",
   "id": "25bff865",
   "metadata": {},
   "source": [
    "* __Método agregar__"
   ]
  },
  {
   "cell_type": "code",
   "execution_count": 18,
   "id": "406293dc",
   "metadata": {},
   "outputs": [
    {
     "name": "stdout",
     "output_type": "stream",
     "text": [
      "{1, 2, 3, 5}\n"
     ]
    }
   ],
   "source": [
    "s1 = set([1,2,3])\n",
    "s1.add(5)\n",
    "\n",
    "print(s1)"
   ]
  },
  {
   "cell_type": "code",
   "execution_count": 35,
   "id": "58dedf47",
   "metadata": {},
   "outputs": [
    {
     "name": "stdout",
     "output_type": "stream",
     "text": [
      "{'Sará', 'Abraham', 'Hagar', 'Rivká', 'Itzjak'}\n"
     ]
    }
   ],
   "source": [
    "nombres = {'Sará', 'Abraham', 'Itzjak', 'Rivká'}\n",
    "nombres.add('Hagar')\n",
    "print(nombres)"
   ]
  },
  {
   "cell_type": "markdown",
   "id": "9ef118d6",
   "metadata": {},
   "source": [
    "* __Si agrego un elemento que ya existe no lo toma en cuenta y deja la lista original__"
   ]
  },
  {
   "cell_type": "code",
   "execution_count": 19,
   "id": "4a223549",
   "metadata": {},
   "outputs": [
    {
     "name": "stdout",
     "output_type": "stream",
     "text": [
      "{1, 2, 3}\n"
     ]
    }
   ],
   "source": [
    "s1 = set([1,2,3])\n",
    "s1.add(3)\n",
    "\n",
    "print(s1)"
   ]
  },
  {
   "cell_type": "markdown",
   "id": "d804cbed",
   "metadata": {},
   "source": [
    "* __Método eliminar__"
   ]
  },
  {
   "cell_type": "code",
   "execution_count": 20,
   "id": "2acc7f3e",
   "metadata": {},
   "outputs": [
    {
     "name": "stdout",
     "output_type": "stream",
     "text": [
      "{1, 3, 4, 5}\n"
     ]
    }
   ],
   "source": [
    "s1 = set([1,2,3,4,5,])\n",
    "\n",
    "s1.remove(2)\n",
    "\n",
    "print(s1)"
   ]
  },
  {
   "cell_type": "markdown",
   "id": "c0585be7",
   "metadata": {},
   "source": [
    "* __Método descartar, para evitar error al ocupar remove y aaroja los elementos que existen__"
   ]
  },
  {
   "cell_type": "code",
   "execution_count": 23,
   "id": "b2cc9c0d",
   "metadata": {},
   "outputs": [
    {
     "name": "stdout",
     "output_type": "stream",
     "text": [
      "{1, 2, 3, 4, 5}\n"
     ]
    }
   ],
   "source": [
    "s1 = set([1,2,3,4,5,])\n",
    "\n",
    "s1.discard(6)\n",
    "\n",
    "print(s1)"
   ]
  },
  {
   "cell_type": "markdown",
   "id": "d1cd6349",
   "metadata": {},
   "source": [
    "* __Y que pasa si sí lo encuentra? lo elimina__"
   ]
  },
  {
   "cell_type": "code",
   "execution_count": 24,
   "id": "8e81120f",
   "metadata": {},
   "outputs": [
    {
     "name": "stdout",
     "output_type": "stream",
     "text": [
      "{1, 2, 3, 5}\n"
     ]
    }
   ],
   "source": [
    "s1 = set([1,2,3,4,5,])\n",
    "\n",
    "s1.discard(4)\n",
    "\n",
    "print(s1)"
   ]
  },
  {
   "cell_type": "markdown",
   "id": "fe85aa42",
   "metadata": {},
   "source": [
    "* __Método pop, elimina un elemento aliatorio__"
   ]
  },
  {
   "cell_type": "code",
   "execution_count": 28,
   "id": "06c4d46d",
   "metadata": {},
   "outputs": [
    {
     "name": "stdout",
     "output_type": "stream",
     "text": [
      "{2, 3, 4, 5}\n"
     ]
    }
   ],
   "source": [
    "s1 = set([1,2,3,4,5,])\n",
    "\n",
    "s1.pop()\n",
    "\n",
    "print(s1)"
   ]
  },
  {
   "cell_type": "markdown",
   "id": "a5d5fb31",
   "metadata": {},
   "source": [
    "* __Uso práctico para realizar un sorteo__"
   ]
  },
  {
   "cell_type": "code",
   "execution_count": 31,
   "id": "51636dd3",
   "metadata": {},
   "outputs": [
    {
     "name": "stdout",
     "output_type": "stream",
     "text": [
      "1\n"
     ]
    }
   ],
   "source": [
    "s1 = set([6,2,3,4,5,1])\n",
    "\n",
    "sorteo = s1.pop()\n",
    "\n",
    "print(sorteo)"
   ]
  },
  {
   "cell_type": "markdown",
   "id": "8688f305",
   "metadata": {},
   "source": [
    "* __Método limpiar 'clear'__"
   ]
  },
  {
   "cell_type": "code",
   "execution_count": 32,
   "id": "2b92637f",
   "metadata": {},
   "outputs": [
    {
     "name": "stdout",
     "output_type": "stream",
     "text": [
      "set()\n"
     ]
    }
   ],
   "source": [
    "s1 = set([6,2,3,4,5,1])\n",
    "\n",
    "s1.clear()\n",
    "\n",
    "print(s1)"
   ]
  },
  {
   "cell_type": "markdown",
   "id": "2adb46ea",
   "metadata": {},
   "source": [
    "*Zeev"
   ]
  }
 ],
 "metadata": {
  "kernelspec": {
   "display_name": "Python 3 (ipykernel)",
   "language": "python",
   "name": "python3"
  },
  "language_info": {
   "codemirror_mode": {
    "name": "ipython",
    "version": 3
   },
   "file_extension": ".py",
   "mimetype": "text/x-python",
   "name": "python",
   "nbconvert_exporter": "python",
   "pygments_lexer": "ipython3",
   "version": "3.10.9"
  }
 },
 "nbformat": 4,
 "nbformat_minor": 5
}
