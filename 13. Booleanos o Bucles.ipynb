{
 "cells": [
  {
   "cell_type": "markdown",
   "id": "7ce00668",
   "metadata": {},
   "source": [
    "# Booleanos o bucles\n",
    "En Python, los booleanos son un tipo de dato que representa un valor de verdad. Puede tener dos valores posibles: True (verdadero) o False (falso). Estos valores son utilizados para la lógica y el control de flujo en programas.\n",
    "* Valores: Los booleanos en Python se representan como True y False. Es importante tener en cuenta que estos son palabras clave reservadas y deben escribirse en minúsculas.\n",
    "* Operadores booleanos: Python proporciona operadores booleanos para combinar y manipular los valores booleanos. Los operadores booleanos más comunes son:\n",
    "    * and: Devuelve True si ambos operandos son True.\n",
    "    * or: Devuelve True si al menos uno de los operandos es True.\n",
    "    * not: Devuelve el valor opuesto del operando, es decir, True si el operando es False y viceversa.\n",
    "* Evaluación perezosa (short-circuit): Python utiliza la evaluación perezosa para los operadores booleanos and y or. Esto significa que si la expresión se puede evaluar como verdadera o falsa sin necesidad de evaluar todos los operandos, Python detendrá la evaluación y devolverá el resultado. Por ejemplo, en una expresión A and B, si A es False, Python no evaluará B porque ya sabe que el resultado será False.\n",
    "* Comparaciones: Los operadores de comparación en Python devuelven un valor booleano. Algunos ejemplos de operadores de comparación son:\n",
    "    * ==: Comprueba si dos valores son iguales.\n",
    "    * !=: Comprueba si dos valores son diferentes.\n",
    "    * <, >, <=, >=: Realizan comparaciones numéricas.\n",
    "* Uso en estructuras de control: Los valores booleanos son fundamentales para las estructuras de control en Python, como las declaraciones if, while y for. Estas declaraciones evalúan una expresión booleana y toman decisiones o repiten acciones en función del resultado."
   ]
  },
  {
   "cell_type": "markdown",
   "id": "ed27f680",
   "metadata": {},
   "source": [
    "* __Ejemplo de booleano en el código de manera directa__"
   ]
  },
  {
   "cell_type": "code",
   "execution_count": 1,
   "id": "017c95a9",
   "metadata": {},
   "outputs": [
    {
     "name": "stdout",
     "output_type": "stream",
     "text": [
      "<class 'bool'>\n",
      "True\n"
     ]
    }
   ],
   "source": [
    "var1 = True\n",
    "var2 = False\n",
    "print(type(var1))\n",
    "print(var1)"
   ]
  },
  {
   "cell_type": "markdown",
   "id": "7582381e",
   "metadata": {},
   "source": [
    "* __Ahora de manera indirecta__"
   ]
  },
  {
   "cell_type": "code",
   "execution_count": 2,
   "id": "9f85ccc2",
   "metadata": {},
   "outputs": [
    {
     "name": "stdout",
     "output_type": "stream",
     "text": [
      "<class 'bool'>\n",
      "False\n"
     ]
    }
   ],
   "source": [
    "numero = 5 > 2+3\n",
    "print(type(numero))\n",
    "print(numero)"
   ]
  },
  {
   "cell_type": "code",
   "execution_count": 3,
   "id": "157d7376",
   "metadata": {},
   "outputs": [
    {
     "name": "stdout",
     "output_type": "stream",
     "text": [
      "<class 'bool'>\n",
      "True\n"
     ]
    }
   ],
   "source": [
    "numero = 5 == 2+3\n",
    "print(type(numero))\n",
    "print(numero)"
   ]
  },
  {
   "cell_type": "code",
   "execution_count": 4,
   "id": "142c4cb3",
   "metadata": {},
   "outputs": [
    {
     "name": "stdout",
     "output_type": "stream",
     "text": [
      "<class 'bool'>\n",
      "True\n"
     ]
    }
   ],
   "source": [
    "numero = 5 >= 2+3\n",
    "print(type(numero))\n",
    "print(numero)"
   ]
  },
  {
   "cell_type": "code",
   "execution_count": 5,
   "id": "8ae9ad9a",
   "metadata": {},
   "outputs": [
    {
     "name": "stdout",
     "output_type": "stream",
     "text": [
      "<class 'bool'>\n",
      "False\n"
     ]
    }
   ],
   "source": [
    "numero = 5 != 2+3\n",
    "print(type(numero))\n",
    "print(numero)"
   ]
  },
  {
   "cell_type": "markdown",
   "id": "3c97f5eb",
   "metadata": {},
   "source": [
    "* __Otra forma__"
   ]
  },
  {
   "cell_type": "code",
   "execution_count": 6,
   "id": "0f99e883",
   "metadata": {},
   "outputs": [
    {
     "name": "stdout",
     "output_type": "stream",
     "text": [
      "<class 'bool'>\n",
      "False\n"
     ]
    }
   ],
   "source": [
    "numero = bool(5>6)\n",
    "print(type(numero))\n",
    "print(numero)"
   ]
  },
  {
   "cell_type": "code",
   "execution_count": 7,
   "id": "e807a3cd",
   "metadata": {},
   "outputs": [
    {
     "name": "stdout",
     "output_type": "stream",
     "text": [
      "<class 'bool'>\n",
      "True\n"
     ]
    }
   ],
   "source": [
    "numero = bool(5-6)\n",
    "print(type(numero))\n",
    "print(numero)"
   ]
  },
  {
   "cell_type": "markdown",
   "id": "94a14280",
   "metadata": {},
   "source": [
    "* __Construir un valor booleano__"
   ]
  },
  {
   "cell_type": "code",
   "execution_count": 8,
   "id": "6b5e064a",
   "metadata": {},
   "outputs": [
    {
     "name": "stdout",
     "output_type": "stream",
     "text": [
      "<class 'bool'>\n",
      "True\n"
     ]
    }
   ],
   "source": [
    "lista = [1,2,3,4,5,6,7]\n",
    "control = 5 in lista\n",
    "print(type(control))\n",
    "print(control)"
   ]
  },
  {
   "cell_type": "code",
   "execution_count": 9,
   "id": "ad53c4e9",
   "metadata": {},
   "outputs": [
    {
     "name": "stdout",
     "output_type": "stream",
     "text": [
      "<class 'bool'>\n",
      "False\n"
     ]
    }
   ],
   "source": [
    "lista = [1,2,3,4,5,6,7]\n",
    "control = 5 not in lista\n",
    "print(type(control))\n",
    "print(control)"
   ]
  },
  {
   "cell_type": "markdown",
   "id": "b30a0e60",
   "metadata": {},
   "source": [
    "* __Práctica Booleanos:__\n",
    "- Verifica si 17834/34 es mayor que 87*56 y muestra el resultado (booleano) en pantalla utilizando print()"
   ]
  },
  {
   "cell_type": "code",
   "execution_count": 10,
   "id": "cdb7b9ab",
   "metadata": {},
   "outputs": [
    {
     "name": "stdout",
     "output_type": "stream",
     "text": [
      "<class 'bool'>\n",
      "False\n"
     ]
    }
   ],
   "source": [
    "resul = 17834 / 34 > 87 * 56\n",
    "print(type(resul))\n",
    "print(resul)"
   ]
  },
  {
   "cell_type": "markdown",
   "id": "4ca93c1f",
   "metadata": {},
   "source": [
    "*__ Práctica Booleanos__\n",
    "- Verifica si la raíz cuadrada de 25 es igual a 5 y muestra el resultado (booleano) en pantalla utilizando print()"
   ]
  },
  {
   "cell_type": "code",
   "execution_count": 11,
   "id": "4546b649",
   "metadata": {},
   "outputs": [
    {
     "name": "stdout",
     "output_type": "stream",
     "text": [
      "<class 'bool'>\n",
      "True\n"
     ]
    }
   ],
   "source": [
    "raiz2 = 25 ** 0.5 == 5\n",
    "print(type(raiz2))\n",
    "print(raiz2)"
   ]
  },
  {
   "cell_type": "markdown",
   "id": "9d83bccc",
   "metadata": {},
   "source": [
    "*Zeev"
   ]
  }
 ],
 "metadata": {
  "kernelspec": {
   "display_name": "Python 3 (ipykernel)",
   "language": "python",
   "name": "python3"
  },
  "language_info": {
   "codemirror_mode": {
    "name": "ipython",
    "version": 3
   },
   "file_extension": ".py",
   "mimetype": "text/x-python",
   "name": "python",
   "nbconvert_exporter": "python",
   "pygments_lexer": "ipython3",
   "version": "3.10.9"
  }
 },
 "nbformat": 4,
 "nbformat_minor": 5
}
