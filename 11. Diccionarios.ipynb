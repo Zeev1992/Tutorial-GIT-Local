{
 "cells": [
  {
   "cell_type": "markdown",
   "id": "4560d7ee",
   "metadata": {},
   "source": [
    "# Diccionarios\n",
    "Un diccionario es una estructura de datos que permite almacenar y organizar información de manera flexible. Se trata de una colección no ordenada de pares clave-valor, donde cada clave debe ser única.\n",
    "\n",
    "En lugar de acceder a los elementos de un diccionario utilizando índices numéricos como en las listas o tuplas, en un diccionario se accede a los valores mediante sus claves. Las claves pueden ser de diversos tipos de datos inmutables, como cadenas, números enteros o tuplas.\n",
    "\n",
    "Los diccionarios en Python son muy eficientes para buscar, agregar, eliminar y modificar elementos, ya que utilizan una técnica llamada \"tabla hash\" que permite acceder directamente a los valores asociados a una clave determinada, sin necesidad de recorrer toda la estructura de datos."
   ]
  },
  {
   "cell_type": "markdown",
   "id": "e288466f",
   "metadata": {},
   "source": [
    "__Algunas reglas y características que debes tener en cuenta al trabajar con ellos:__\n",
    "\n",
    "- Claves únicas: Cada clave en un diccionario debe ser única. No puede haber claves duplicadas dentro del mismo diccionario. Si se intenta agregar una clave que ya existe, el valor asociado a esa clave se actualizará con el nuevo valor.\n",
    "\n",
    "- Claves inmutables: Las claves en un diccionario deben ser de tipo de dato inmutable, como cadenas, números enteros, tuplas, etc. Esto se debe a que las claves se utilizan como identificadores únicos dentro del diccionario y no se pueden modificar. Por otro lado, los valores asociados a las claves pueden ser de cualquier tipo de dato, incluso objetos mutables como listas o diccionarios.\n",
    "\n",
    "- Estructura no ordenada: Los diccionarios en Python no conservan un orden específico de los pares clave-valor. No puedes asumir que los elementos se almacenarán en el mismo orden en el que se agregaron al diccionario. Si necesitas un orden específico, puedes utilizar otras estructuras de datos, como listas o tuplas, en combinación con diccionarios.\n",
    "\n",
    "- Acceso a través de claves: Para acceder a los valores de un diccionario, se utiliza la sintaxis diccionario[clave]. Debes proporcionar la clave correspondiente para obtener el valor asociado. Si intentas acceder a una clave que no existe en el diccionario, se generará un error KeyError. Puedes utilizar el método get() para acceder a un valor de manera segura, ya que si la clave no existe, en lugar de generar un error, devolverá un valor predeterminado o None.\n",
    "\n",
    "- Modificación de valores: Puedes modificar los valores asociados a una clave existente simplemente asignando un nuevo valor a esa clave. Si la clave no existe, se creará un nuevo par clave-valor en el diccionario.\n",
    "\n",
    "- Búsqueda eficiente: Los diccionarios en Python utilizan una técnica llamada \"tabla hash\" para proporcionar un acceso rápido a los valores asociados a una clave. Esto permite una búsqueda eficiente, incluso para diccionarios grandes. Sin embargo, ten en cuenta que el uso excesivo de diccionarios muy grandes puede consumir mucha memoria."
   ]
  },
  {
   "cell_type": "markdown",
   "id": "f12e241b",
   "metadata": {},
   "source": [
    "__Mostramos que tipo es:__"
   ]
  },
  {
   "cell_type": "code",
   "execution_count": 1,
   "id": "15cceaef",
   "metadata": {},
   "outputs": [
    {
     "name": "stdout",
     "output_type": "stream",
     "text": [
      "<class 'dict'>\n"
     ]
    }
   ],
   "source": [
    "diccionario = {\"c1\":'valor1', 'c2':'valor2'}\n",
    "print(type(diccionario))"
   ]
  },
  {
   "cell_type": "markdown",
   "id": "70781c88",
   "metadata": {},
   "source": [
    "__Mostramos su contenido:__"
   ]
  },
  {
   "cell_type": "code",
   "execution_count": 2,
   "id": "3e1bfed6",
   "metadata": {},
   "outputs": [
    {
     "name": "stdout",
     "output_type": "stream",
     "text": [
      "{'c!': 'valor1', 'c2': 'valor1'}\n"
     ]
    }
   ],
   "source": [
    "diccionario = {\"c1\":'valor1', 'c2':'valor2'}\n",
    "print(diccionario)"
   ]
  },
  {
   "cell_type": "markdown",
   "id": "fe11b93b",
   "metadata": {},
   "source": [
    "__Cómo consultar lo que hay en alguna de las claves:__"
   ]
  },
  {
   "cell_type": "code",
   "execution_count": 4,
   "id": "108be1b3",
   "metadata": {},
   "outputs": [
    {
     "name": "stdout",
     "output_type": "stream",
     "text": [
      "{'c1': 'valor1', 'c2': 'valor2'}\n",
      "valor1\n"
     ]
    }
   ],
   "source": [
    "diccionario = {\"c1\":'valor1', 'c2':'valor2'}\n",
    "print(diccionario)\n",
    "\n",
    "resultado = diccionario['c1']\n",
    "print(resultado)"
   ]
  },
  {
   "cell_type": "code",
   "execution_count": 5,
   "id": "8b0b8f95",
   "metadata": {},
   "outputs": [
    {
     "name": "stdout",
     "output_type": "stream",
     "text": [
      "1.7\n"
     ]
    }
   ],
   "source": [
    "cliente = {'nombre':'Pancho', 'apellido':'Morales', 'Peso':70, 'Talla':1.70}\n",
    "consulta = (cliente['Talla'])\n",
    "print(consulta)"
   ]
  },
  {
   "cell_type": "markdown",
   "id": "48096b81",
   "metadata": {},
   "source": [
    "__Ejemplo de un diccionario que contenga:\n",
    "* Una lista\n",
    "* Un diccionario"
   ]
  },
  {
   "cell_type": "code",
   "execution_count": 6,
   "id": "2a807854",
   "metadata": {},
   "outputs": [
    {
     "name": "stdout",
     "output_type": "stream",
     "text": [
      "100\n"
     ]
    }
   ],
   "source": [
    "dic = {'c1':100, 'c2':[1,2,4,6,3,8,1,9], 'c3':{'x1':1992, 'x2':2023}}\n",
    "print(dic['c1'])"
   ]
  },
  {
   "cell_type": "code",
   "execution_count": 7,
   "id": "cceb5ba0",
   "metadata": {},
   "outputs": [
    {
     "name": "stdout",
     "output_type": "stream",
     "text": [
      "[1, 2, 4, 6, 3, 8, 1, 9]\n"
     ]
    }
   ],
   "source": [
    "print(dic['c2'])"
   ]
  },
  {
   "cell_type": "markdown",
   "id": "6716007a",
   "metadata": {},
   "source": [
    "__Imprimir el índice de una lista dentro de un diccionario:__"
   ]
  },
  {
   "cell_type": "code",
   "execution_count": 9,
   "id": "6fc1c7d8",
   "metadata": {},
   "outputs": [
    {
     "name": "stdout",
     "output_type": "stream",
     "text": [
      "6\n"
     ]
    }
   ],
   "source": [
    "print(dic['c2'][3])"
   ]
  },
  {
   "cell_type": "markdown",
   "id": "1cc27b07",
   "metadata": {},
   "source": [
    "__Obtenemos el diccionario que está dentro del diccionario principal__"
   ]
  },
  {
   "cell_type": "code",
   "execution_count": 8,
   "id": "5e2558e5",
   "metadata": {},
   "outputs": [
    {
     "name": "stdout",
     "output_type": "stream",
     "text": [
      "{'x1': 1992, 'x2': 2023}\n"
     ]
    }
   ],
   "source": [
    "print(dic['c3'])"
   ]
  },
  {
   "cell_type": "markdown",
   "id": "fea914d6",
   "metadata": {},
   "source": [
    "__Obtener lo que hay en algún índice del diccionario que esta dentro del principal__"
   ]
  },
  {
   "cell_type": "code",
   "execution_count": 10,
   "id": "fc76d851",
   "metadata": {},
   "outputs": [
    {
     "name": "stdout",
     "output_type": "stream",
     "text": [
      "2023\n"
     ]
    }
   ],
   "source": [
    "dic = {'c1':100, 'c2':[1,2,4,6,3,8,1,9], 'c3':{'x1':1992, 'x2':2023}}\n",
    "print(dic['c3']['x2'])"
   ]
  },
  {
   "cell_type": "markdown",
   "id": "293eb0ce",
   "metadata": {},
   "source": [
    "__En una sola línea de código una orden que imprima en pantalla la letra 'e' en mayúscula__"
   ]
  },
  {
   "cell_type": "code",
   "execution_count": 16,
   "id": "55231732",
   "metadata": {},
   "outputs": [
    {
     "name": "stdout",
     "output_type": "stream",
     "text": [
      "E\n"
     ]
    }
   ],
   "source": [
    "dic = {'z1':['a','b','c'], 'z2':['d','e','f']}\n",
    "print(dic['z2'][1].upper())"
   ]
  },
  {
   "cell_type": "markdown",
   "id": "7745c950",
   "metadata": {},
   "source": [
    "__Imprimir la 'a' en mayúsculas, por pasos:__"
   ]
  },
  {
   "cell_type": "code",
   "execution_count": 17,
   "id": "29ef8c7f",
   "metadata": {},
   "outputs": [
    {
     "name": "stdout",
     "output_type": "stream",
     "text": [
      "['a', 'b', 'c']\n"
     ]
    }
   ],
   "source": [
    "dic = {'z1':['a','b','c'], 'z2':['d','e','f']}\n",
    "print(dic['z1'])"
   ]
  },
  {
   "cell_type": "code",
   "execution_count": 18,
   "id": "ff0bdf9d",
   "metadata": {},
   "outputs": [
    {
     "name": "stdout",
     "output_type": "stream",
     "text": [
      "a\n"
     ]
    }
   ],
   "source": [
    "print(dic['z1'][0])"
   ]
  },
  {
   "cell_type": "code",
   "execution_count": 20,
   "id": "5ad309b3",
   "metadata": {},
   "outputs": [
    {
     "name": "stdout",
     "output_type": "stream",
     "text": [
      "A\n"
     ]
    }
   ],
   "source": [
    "print(dic['z1'][0].upper())"
   ]
  },
  {
   "cell_type": "markdown",
   "id": "5308b63b",
   "metadata": {},
   "source": [
    "__Agregar elementos a un diccionario__"
   ]
  },
  {
   "cell_type": "code",
   "execution_count": 21,
   "id": "9459c058",
   "metadata": {},
   "outputs": [
    {
     "name": "stdout",
     "output_type": "stream",
     "text": [
      "{1: 'a', 2: 'b'}\n"
     ]
    }
   ],
   "source": [
    "dic = {1:'a', 2:'b'}\n",
    "print(dic)"
   ]
  },
  {
   "cell_type": "markdown",
   "id": "f6d14646",
   "metadata": {},
   "source": [
    "__Para agregar una clave 3 y su valor 'c'__"
   ]
  },
  {
   "cell_type": "code",
   "execution_count": 23,
   "id": "9d0801e1",
   "metadata": {},
   "outputs": [
    {
     "name": "stdout",
     "output_type": "stream",
     "text": [
      "{1: 'a', 2: 'b', 3: 'c'}\n"
     ]
    }
   ],
   "source": [
    "dic = {1:'a', 2:'b'}\n",
    "dic[3] = 'c'\n",
    "print(dic)"
   ]
  },
  {
   "cell_type": "code",
   "execution_count": null,
   "id": "7f012021",
   "metadata": {},
   "outputs": [],
   "source": [
    "dic = {1: 'a', 2: 'b', 3: 'c'}"
   ]
  },
  {
   "cell_type": "markdown",
   "id": "6eabb93b",
   "metadata": {},
   "source": [
    "__Sobreescribir un valor que ya existe__"
   ]
  },
  {
   "cell_type": "code",
   "execution_count": 24,
   "id": "ad2731d3",
   "metadata": {},
   "outputs": [
    {
     "name": "stdout",
     "output_type": "stream",
     "text": [
      "{1: 'a', 2: 'B', 3: 'c'}\n"
     ]
    }
   ],
   "source": [
    "dic[2] = 'B'\n",
    "print(dic)"
   ]
  },
  {
   "cell_type": "markdown",
   "id": "8e281908",
   "metadata": {},
   "source": [
    "__Conocer todas las claves que hay en un diccionario__"
   ]
  },
  {
   "cell_type": "code",
   "execution_count": 26,
   "id": "ce6274c8",
   "metadata": {},
   "outputs": [
    {
     "name": "stdout",
     "output_type": "stream",
     "text": [
      "dict_keys([1, 2, 3])\n"
     ]
    }
   ],
   "source": [
    "print(dic.keys())"
   ]
  },
  {
   "cell_type": "markdown",
   "id": "2c0bf197",
   "metadata": {},
   "source": [
    "__Concer los valores de un diccionario__"
   ]
  },
  {
   "cell_type": "code",
   "execution_count": 27,
   "id": "fe4c682d",
   "metadata": {},
   "outputs": [
    {
     "name": "stdout",
     "output_type": "stream",
     "text": [
      "dict_values(['a', 'B', 'c'])\n"
     ]
    }
   ],
   "source": [
    "print(dic.values())"
   ]
  },
  {
   "cell_type": "markdown",
   "id": "d64f20db",
   "metadata": {},
   "source": [
    "__Conocer todo el contenido de un diccionario__"
   ]
  },
  {
   "cell_type": "code",
   "execution_count": 28,
   "id": "0d6bc331",
   "metadata": {},
   "outputs": [
    {
     "name": "stdout",
     "output_type": "stream",
     "text": [
      "dict_items([(1, 'a'), (2, 'B'), (3, 'c')])\n"
     ]
    }
   ],
   "source": [
    "print(dic.items())"
   ]
  },
  {
   "cell_type": "code",
   "execution_count": 29,
   "id": "9a8af880",
   "metadata": {},
   "outputs": [
    {
     "name": "stdout",
     "output_type": "stream",
     "text": [
      "{1: 'a', 2: 'B', 3: 'c'}\n"
     ]
    }
   ],
   "source": [
    "print(dic)"
   ]
  },
  {
   "cell_type": "markdown",
   "id": "a0782f0e",
   "metadata": {},
   "source": [
    "__Práctica 1: crear un diccionario:__\n",
    "* Llamado mi_dic\n",
    "* Almacene información de una persona\n",
    "    - Nombre: Rajel, \n",
    "    - Apellido: Morales, \n",
    "    - Edad: 20, \n",
    "    - Ocupación: Periodista"
   ]
  },
  {
   "cell_type": "code",
   "execution_count": 8,
   "id": "cd4f7a78",
   "metadata": {},
   "outputs": [
    {
     "name": "stdout",
     "output_type": "stream",
     "text": [
      "{'nombre': 'Rajel', 'apellido': 'Morales', 'edad': 20, 'ocupación': 'Periodista'}\n"
     ]
    }
   ],
   "source": [
    "mi_dic = {'nombre':'Rajel', 'apellido':'Morales', 'edad':20, 'ocupación':'Periodista'}\n",
    "print(mi_dic)"
   ]
  },
  {
   "cell_type": "markdown",
   "id": "4248210d",
   "metadata": {},
   "source": [
    "__Práctica 2: Crea una función print que devuelva del segundo item de la lista llamada points2, dentro del siguiente diccionario:__\n",
    "\n",
    "* Si el valor 300 cambiara en el futuro, el código debería funcionar igual para devolver el valor que se encuentre en esa misma posición. Para ello, deberás hacer referencia a los nombres de las claves y/o índices según corresponda"
   ]
  },
  {
   "cell_type": "code",
   "execution_count": 3,
   "id": "89dd1564",
   "metadata": {},
   "outputs": [
    {
     "name": "stdout",
     "output_type": "stream",
     "text": [
      "300\n"
     ]
    }
   ],
   "source": [
    "mi_dict = {\"valores_1\":{\"v1\":3,\"v2\":6},\"puntos\":{\"points1\":9,\"points2\":[10,300,15]}}\n",
    "print(mi_dict[\"puntos\"][\"points2\"][1])"
   ]
  },
  {
   "cell_type": "markdown",
   "id": "18905114",
   "metadata": {},
   "source": [
    "__Práctica 3: Actualiza la información de nuestro diccionario llamado mi_dic  (reasignando nuevos valores a las claves según corresponda), y agrega una nueva clave llamada \"pais\" (sin tilde). Los nuevos datos son:__\n",
    "\n",
    "nombre: Sara\n",
    "\n",
    "apellido: Morales\n",
    "\n",
    "edad: 36\n",
    "\n",
    "ocupacion: Editora\n",
    "\n",
    "pais: México\n",
    "\n",
    "para ello, no debes cambiar la línea de código ya escrita, sino actualizar los valores mediante métodos de diccionarios."
   ]
  },
  {
   "cell_type": "code",
   "execution_count": 9,
   "id": "5ff2199e",
   "metadata": {},
   "outputs": [
    {
     "name": "stdout",
     "output_type": "stream",
     "text": [
      "{'nombre': 'Rajel', 'apellido': 'Morales', 'edad': 20, 'ocupación': 'Periodista'}\n",
      "{'nombre': 'Rajel', 'apellido': 'Morales', 'edad': 36, 'ocupación': 'Editora', 'país': 'México'}\n"
     ]
    }
   ],
   "source": [
    "mi_dic = {'nombre':'Rajel', 'apellido':'Morales', 'edad':20, 'ocupación':'Periodista'}\n",
    "print(mi_dic)\n",
    "\n",
    "mi_dic['edad']=36\n",
    "\n",
    "mi_dic[\"ocupación\"] = \"Editora\"\n",
    "\n",
    "mi_dic[\"país\"] = \"México\"\n",
    "\n",
    "print(mi_dic)"
   ]
  },
  {
   "cell_type": "markdown",
   "id": "88a6c061",
   "metadata": {},
   "source": [
    "*Zeev"
   ]
  }
 ],
 "metadata": {
  "kernelspec": {
   "display_name": "Python 3 (ipykernel)",
   "language": "python",
   "name": "python3"
  },
  "language_info": {
   "codemirror_mode": {
    "name": "ipython",
    "version": 3
   },
   "file_extension": ".py",
   "mimetype": "text/x-python",
   "name": "python",
   "nbconvert_exporter": "python",
   "pygments_lexer": "ipython3",
   "version": "3.10.9"
  }
 },
 "nbformat": 4,
 "nbformat_minor": 5
}
