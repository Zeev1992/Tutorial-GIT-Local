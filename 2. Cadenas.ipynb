{
 "cells": [
  {
   "cell_type": "markdown",
   "id": "c84802be",
   "metadata": {},
   "source": [
    "## Cadenas\n",
    "Una cadena es una secuencia inmutable de caracteres Unicode, delimitada por comillas. Las __comillas simples y dobles__: Las cadenas de texto se pueden delimitar con comillas simples (') o con comillas dobles (\"). En Python las comillas dobles y simples son completamente equivalentes, pero en otros lenguajes de programación no. Las cedenas deben de cerrar con las mismas comillas, con las que abrieron, de lo contrario marcará un error de Syntaxis.\n",
    "- como escribir una cadena entre comillas: print('Shalom \"Zeev\"')"
   ]
  },
  {
   "cell_type": "code",
   "execution_count": 7,
   "id": "5e46d053",
   "metadata": {},
   "outputs": [
    {
     "name": "stdout",
     "output_type": "stream",
     "text": [
      "Shalom \"Zeev\"\n"
     ]
    }
   ],
   "source": [
    "print('Shalom \"Zeev\"')"
   ]
  },
  {
   "cell_type": "markdown",
   "id": "d9f76e12",
   "metadata": {},
   "source": [
    "__Entre comillas con un salto de línea:__\n",
    "- print (\"Shalom \\\"Zeev\\\"\\n\")"
   ]
  },
  {
   "cell_type": "code",
   "execution_count": 11,
   "id": "ff3542ce",
   "metadata": {},
   "outputs": [
    {
     "name": "stdout",
     "output_type": "stream",
     "text": [
      "Shalom \"Zeev\"\n",
      "\n"
     ]
    }
   ],
   "source": [
    "print (\"Shalom \\\"Zeev\\\"\\n\")"
   ]
  },
  {
   "cell_type": "markdown",
   "id": "10050680",
   "metadata": {},
   "source": [
    "__Otra forma:__\n",
    "- print ('shalom \"Zeev\"\\n')"
   ]
  },
  {
   "cell_type": "code",
   "execution_count": 12,
   "id": "d4a11db5",
   "metadata": {},
   "outputs": [
    {
     "name": "stdout",
     "output_type": "stream",
     "text": [
      "shalom \"Zeev\"\n",
      "\n"
     ]
    }
   ],
   "source": [
    "print ('shalom \"Zeev\"\\n')"
   ]
  },
  {
   "cell_type": "markdown",
   "id": "e931e867",
   "metadata": {},
   "source": [
    "__Otra forma:__\n",
    "- print('shalom! \\\"Zeev\\\"')"
   ]
  },
  {
   "cell_type": "code",
   "execution_count": 10,
   "id": "4068ec68",
   "metadata": {},
   "outputs": [
    {
     "name": "stdout",
     "output_type": "stream",
     "text": [
      "shalom! \"Zeev\"\n"
     ]
    }
   ],
   "source": [
    "print('shalom! \\\"Zeev\\\"')"
   ]
  },
  {
   "cell_type": "markdown",
   "id": "6b7277dc",
   "metadata": {},
   "source": [
    "__Uso de caracter de escape \\ (diagonal invertida):__\n",
    "- print('I\\'m zeev')\n",
    "- print (\"I'm zeev\")\n",
    "- print (\"I'm \\\"zeev\\\"\\n\")"
   ]
  },
  {
   "cell_type": "code",
   "execution_count": 13,
   "id": "27fd1ca9",
   "metadata": {},
   "outputs": [
    {
     "name": "stdout",
     "output_type": "stream",
     "text": [
      "I'm zeev\n"
     ]
    }
   ],
   "source": [
    "print('I\\'m zeev')"
   ]
  },
  {
   "cell_type": "code",
   "execution_count": 14,
   "id": "d35d749e",
   "metadata": {},
   "outputs": [
    {
     "name": "stdout",
     "output_type": "stream",
     "text": [
      "I'm zeev\n"
     ]
    }
   ],
   "source": [
    "print (\"I'm zeev\")"
   ]
  },
  {
   "cell_type": "code",
   "execution_count": 15,
   "id": "e92b2e63",
   "metadata": {},
   "outputs": [
    {
     "name": "stdout",
     "output_type": "stream",
     "text": [
      "I'm \"zeev\"\n",
      "\n"
     ]
    }
   ],
   "source": [
    "print (\"I'm \\\"zeev\\\"\\n\")"
   ]
  },
  {
   "cell_type": "markdown",
   "id": "da91514b",
   "metadata": {},
   "source": [
    "### Comillas triples.\n",
    "Las comillas triples permiten que las cadenas ocupen más de una línea:"
   ]
  },
  {
   "cell_type": "code",
   "execution_count": 46,
   "id": "5f92fbdb",
   "metadata": {
    "scrolled": false
   },
   "outputs": [
    {
     "name": "stdout",
     "output_type": "stream",
     "text": [
      "Esta es una cadena\n",
      "que ocupa\n",
      "varias líneas\n"
     ]
    }
   ],
   "source": [
    "print(\"\"\"Esta es una cadena\n",
    "que ocupa\n",
    "varias líneas\"\"\")"
   ]
  },
  {
   "cell_type": "markdown",
   "id": "2cde778b",
   "metadata": {},
   "source": [
    "### Comillas dentro de comillas.\n",
    "Se pueden escribir comillas simples en cadenas delimitadas con comillas dobles y viceversa."
   ]
  },
  {
   "cell_type": "code",
   "execution_count": 47,
   "id": "636eefe2",
   "metadata": {},
   "outputs": [
    {
     "name": "stdout",
     "output_type": "stream",
     "text": [
      "Las comillas simples delimitan cadenas\n",
      "Las comillas dobles delimitan cadenas\n"
     ]
    }
   ],
   "source": [
    "print('Las comillas simples delimitan cadenas')\n",
    "print(\"Las comillas dobles delimitan cadenas\")"
   ]
  },
  {
   "cell_type": "markdown",
   "id": "cd9de996",
   "metadata": {},
   "source": [
    "Otra forma de escribir comillas en una cadena es utilizar los caracteres especiales \\\" y \\' que representan los caracteres comillas dobles y simples respectivamente y que Python no interpreta en ningún caso como delimitadores de cadena:"
   ]
  },
  {
   "cell_type": "code",
   "execution_count": 48,
   "id": "05d4815a",
   "metadata": {},
   "outputs": [
    {
     "name": "stdout",
     "output_type": "stream",
     "text": [
      "Las comillas simples ' delimitan cadenas\n"
     ]
    }
   ],
   "source": [
    "print('Las comillas simples \\' delimitan cadenas')"
   ]
  },
  {
   "cell_type": "code",
   "execution_count": 49,
   "id": "d0ad7e12",
   "metadata": {},
   "outputs": [
    {
     "name": "stdout",
     "output_type": "stream",
     "text": [
      "Las comillas dobles \" delimitan cadenas\n"
     ]
    }
   ],
   "source": [
    "print(\"Las comillas dobles \\\" delimitan cadenas\")"
   ]
  },
  {
   "cell_type": "markdown",
   "id": "33b6e5ed",
   "metadata": {},
   "source": [
    "Se pueden utilizar ambos caracteres especiales independientemente del delimitador utilizado:"
   ]
  },
  {
   "cell_type": "code",
   "execution_count": null,
   "id": "a21a6907",
   "metadata": {},
   "outputs": [],
   "source": [
    "print('Las comillas simples \\' y las comillas dobles \\\" delimitan cadenas.')"
   ]
  },
  {
   "cell_type": "code",
   "execution_count": null,
   "id": "de2ad1a8",
   "metadata": {},
   "outputs": [],
   "source": [
    "print(\"Las comillas simples \\' y las comillas dobles \\\" delimitan cadenas.\")"
   ]
  },
  {
   "cell_type": "markdown",
   "id": "1405a188",
   "metadata": {},
   "source": [
    "### Caracteres especiales"
   ]
  },
  {
   "cell_type": "markdown",
   "id": "3010fa5f",
   "metadata": {},
   "source": [
    "Escribe una sola línea de código, utilizando la función print(), así como los caracteres de nueva línea y escape, para obtener la salida esperada de tres líneas.\n",
    "- print('\"Estoy\"')\n",
    "- print('\"\"Aprendiendo\"\"')\n",
    "- print('\"\"\"Python\"\"\"')"
   ]
  },
  {
   "cell_type": "code",
   "execution_count": 17,
   "id": "b5f5ecc7",
   "metadata": {},
   "outputs": [
    {
     "name": "stdout",
     "output_type": "stream",
     "text": [
      "\"Estoy\"\n",
      "\"\"Aprendiendo\"\"\n",
      "\"\"\"Python\"\"\"\n"
     ]
    }
   ],
   "source": [
    "print('\"Estoy\"')\n",
    "print('\"\"Aprendiendo\"\"')\n",
    "print('\"\"\"Python\"\"\"')"
   ]
  },
  {
   "cell_type": "markdown",
   "id": "7f63d5f3",
   "metadata": {},
   "source": [
    "Ahora, en una sola línea usando caracter de escape:\n",
    "- print(' \"Estoy\"\\n' , ' \"\"Aprendiendo\"\"\\n' , ' \"\"\"Python\"\"\"\\n')"
   ]
  },
  {
   "cell_type": "code",
   "execution_count": 20,
   "id": "4558a07d",
   "metadata": {},
   "outputs": [
    {
     "name": "stdout",
     "output_type": "stream",
     "text": [
      "  \"Estoy\"\n",
      "  \"\"Aprendiendo\"\"\n",
      "  \"\"\"Python\"\"\"\n",
      "\n"
     ]
    }
   ],
   "source": [
    "print('  \"Estoy\"\\n' , ' \"\"Aprendiendo\"\"\\n' , ' \"\"\"Python\"\"\"\\n')"
   ]
  },
  {
   "cell_type": "markdown",
   "id": "90edeb6a",
   "metadata": {},
   "source": [
    "### Tabulador"
   ]
  },
  {
   "cell_type": "code",
   "execution_count": 50,
   "id": "bee64ec3",
   "metadata": {},
   "outputs": [
    {
     "name": "stdout",
     "output_type": "stream",
     "text": [
      "1\t2\t3\t4\n"
     ]
    }
   ],
   "source": [
    "print(\"1\\t2\\t3\\t4\")"
   ]
  },
  {
   "cell_type": "markdown",
   "id": "2aad87c2",
   "metadata": {},
   "source": [
    "### Cadenas largas.\n",
    "Las líneas de código no deben contener más de 79 caracteres, para facilitar la legibilidad. Si un programa contiene cadenas muy largas, se pueden partir en varias cadenas."
   ]
  },
  {
   "cell_type": "code",
   "execution_count": 51,
   "id": "191986f1",
   "metadata": {},
   "outputs": [
    {
     "name": "stdout",
     "output_type": "stream",
     "text": [
      "Esta línea está cortada en dos líneas de menos de 79 caracteres partiendo la cadena en dos\n"
     ]
    }
   ],
   "source": [
    "print(\"Esta línea está cortada en dos líneas de menos de 79 caracteres \"\n",
    "     \"partiendo la cadena en dos\")"
   ]
  },
  {
   "cell_type": "markdown",
   "id": "23004003",
   "metadata": {},
   "source": [
    "### En los programas que hay bloques:"
   ]
  },
  {
   "cell_type": "code",
   "execution_count": 55,
   "id": "99aba21b",
   "metadata": {},
   "outputs": [
    {
     "name": "stdout",
     "output_type": "stream",
     "text": [
      "a b c d e f \n",
      "a b c d e f \n",
      "a b c d e f \n"
     ]
    }
   ],
   "source": [
    "for i in range(3):\n",
    "    print(\"a b c \"\n",
    "          \"d e f \")"
   ]
  },
  {
   "cell_type": "markdown",
   "id": "0412035b",
   "metadata": {},
   "source": [
    "### Formatear cadenas"
   ]
  },
  {
   "cell_type": "code",
   "execution_count": 22,
   "id": "ed894d7d",
   "metadata": {},
   "outputs": [
    {
     "name": "stdout",
     "output_type": "stream",
     "text": [
      "Escribe tu edad: 59\n",
      "<class 'str'>\n",
      "<class 'int'>\n",
      "60\n",
      "¡qué jóven!\n"
     ]
    }
   ],
   "source": [
    "edad = input(\"Escribe tu edad: \")\n",
    "print(type(edad))\n",
    "edad = int(edad)\n",
    "print(type(edad))\n",
    "edad2 = 1 + edad\n",
    "print(edad2)\n",
    "print(\"¡qué jóven!\")"
   ]
  },
  {
   "cell_type": "markdown",
   "id": "6aeaf02b",
   "metadata": {},
   "source": [
    "#### VAMOS A FORMATEAR CADENAS\n",
    "- Para ello vamos a utilizar la función \"format\"\n",
    "- EJEMPLO: print(\"Mi auto es {} y matrícula {}.format(color_auto, matrícula\"))\n",
    "- Cadenas literales. Ejemplo: print(f\"Mi auto es {color_auto} y placas {matrícula}\")"
   ]
  },
  {
   "cell_type": "markdown",
   "id": "09c908c7",
   "metadata": {},
   "source": [
    "__EJEMPLO: de forma larga:__\n",
    "- print('print(\"Mis números son: {0} y \".format(str(x)) + str(y)\")')"
   ]
  },
  {
   "cell_type": "code",
   "execution_count": 29,
   "id": "e7ba54ad",
   "metadata": {},
   "outputs": [
    {
     "name": "stdout",
     "output_type": "stream",
     "text": [
      "Mis números son: 10 y 5\n"
     ]
    }
   ],
   "source": [
    "x = 10\n",
    "y = 5\n",
    "print(\"Mis números son: {0} y \".format(str(x)) + str(y))"
   ]
  },
  {
   "cell_type": "markdown",
   "id": "98db9936",
   "metadata": {},
   "source": [
    "__Simplificado__"
   ]
  },
  {
   "cell_type": "code",
   "execution_count": 32,
   "id": "a4964b44",
   "metadata": {},
   "outputs": [
    {
     "name": "stdout",
     "output_type": "stream",
     "text": [
      "Mis números son: 10 y 5\n"
     ]
    }
   ],
   "source": [
    "print(\"Mis números son: {} y {}\" .format(x,y))"
   ]
  },
  {
   "cell_type": "markdown",
   "id": "b131a976",
   "metadata": {},
   "source": [
    "__Ahora lo hacemos realizando una operación__"
   ]
  },
  {
   "cell_type": "code",
   "execution_count": 33,
   "id": "1e1def5e",
   "metadata": {},
   "outputs": [
    {
     "name": "stdout",
     "output_type": "stream",
     "text": [
      "Mis números son: 100 y 10\n"
     ]
    }
   ],
   "source": [
    "x = 100\n",
    "y = 10\n",
    "print(\"Mis números son: {} y {}\" .format(x,y))"
   ]
  },
  {
   "cell_type": "markdown",
   "id": "9157b1ca",
   "metadata": {},
   "source": [
    "__sumando x + y__"
   ]
  },
  {
   "cell_type": "code",
   "execution_count": 34,
   "id": "bd8eae58",
   "metadata": {},
   "outputs": [
    {
     "name": "stdout",
     "output_type": "stream",
     "text": [
      "A 100 + 10 da 110\n"
     ]
    }
   ],
   "source": [
    "x = 100\n",
    "y = 10\n",
    "print(\"A {} + {} da {}\".format(x,y,x+y))"
   ]
  },
  {
   "cell_type": "markdown",
   "id": "3436cded",
   "metadata": {},
   "source": [
    "__Multiplicando x * y__"
   ]
  },
  {
   "cell_type": "code",
   "execution_count": 35,
   "id": "4565c6c3",
   "metadata": {},
   "outputs": [
    {
     "name": "stdout",
     "output_type": "stream",
     "text": [
      "A 100 multiplicado por 10 da 1000\n"
     ]
    }
   ],
   "source": [
    "x = 100\n",
    "y = 10\n",
    "print(\"A {} multiplicado por {} da {}\" .format(x,y,x*y))"
   ]
  },
  {
   "cell_type": "markdown",
   "id": "03173a39",
   "metadata": {},
   "source": [
    "__Dividiendo x / y__"
   ]
  },
  {
   "cell_type": "code",
   "execution_count": 37,
   "id": "ec0a04b1",
   "metadata": {},
   "outputs": [
    {
     "name": "stdout",
     "output_type": "stream",
     "text": [
      "A 100 dividido por 10 da 10.0\n"
     ]
    }
   ],
   "source": [
    "x = 100\n",
    "y = 10\n",
    "print(\"A {} dividido por {} da {}\" .format(x,y,x/y))"
   ]
  },
  {
   "cell_type": "markdown",
   "id": "3593df62",
   "metadata": {},
   "source": [
    "__División sin decimales se utiliza \"//\" x // y__"
   ]
  },
  {
   "cell_type": "code",
   "execution_count": 36,
   "id": "542433a5",
   "metadata": {},
   "outputs": [
    {
     "name": "stdout",
     "output_type": "stream",
     "text": [
      "A 100 dividido por 10 da 10\n"
     ]
    }
   ],
   "source": [
    "x = 100\n",
    "y = 10\n",
    "print(\"A {} dividido por {} da {}\" .format(x,y,x//y))"
   ]
  },
  {
   "cell_type": "markdown",
   "id": "bb54d363",
   "metadata": {},
   "source": [
    "__Resta x - y__"
   ]
  },
  {
   "cell_type": "code",
   "execution_count": 38,
   "id": "0f997941",
   "metadata": {},
   "outputs": [
    {
     "name": "stdout",
     "output_type": "stream",
     "text": [
      "A 100 restado por 10 da 90\n"
     ]
    }
   ],
   "source": [
    "x = 100\n",
    "y = 10\n",
    "print(\"A {} restado por {} da {}\" .format(x,y,x-y))"
   ]
  },
  {
   "cell_type": "markdown",
   "id": "8ae71b5a",
   "metadata": {},
   "source": [
    "__Número elevado a una potencia x ** 3__"
   ]
  },
  {
   "cell_type": "code",
   "execution_count": 39,
   "id": "85af774c",
   "metadata": {},
   "outputs": [
    {
     "name": "stdout",
     "output_type": "stream",
     "text": [
      "A 100 elevado a la potencia 3 da 1000000\n"
     ]
    }
   ],
   "source": [
    "x = 100\n",
    "y = 10\n",
    "print(\"A {} elevado a la potencia 3 da {}\" .format(x,x**3))"
   ]
  },
  {
   "cell_type": "markdown",
   "id": "17a956cf",
   "metadata": {},
   "source": [
    "__Número elevado a una potencia y ** 3__"
   ]
  },
  {
   "cell_type": "code",
   "execution_count": 40,
   "id": "474a83e6",
   "metadata": {},
   "outputs": [
    {
     "name": "stdout",
     "output_type": "stream",
     "text": [
      "A 10 elevado a la potencia 3 da 1000\n"
     ]
    }
   ],
   "source": [
    "x = 100\n",
    "y = 10\n",
    "print(\"A {} elevado a la potencia 3 da {}\" .format(y,y**3))"
   ]
  },
  {
   "cell_type": "markdown",
   "id": "6fab5472",
   "metadata": {},
   "source": [
    "__Para obtener los decimales se ocupa % : y % x__"
   ]
  },
  {
   "cell_type": "code",
   "execution_count": 41,
   "id": "62a6b832",
   "metadata": {},
   "outputs": [
    {
     "name": "stdout",
     "output_type": "stream",
     "text": [
      "A 100 aplicado el % de 10 da 10\n"
     ]
    }
   ],
   "source": [
    "x = 100\n",
    "y = 10\n",
    "print(\"A {} aplicado el % de {} da {}\" .format(x,y,y%x))"
   ]
  },
  {
   "cell_type": "markdown",
   "id": "c756f148",
   "metadata": {},
   "source": [
    "__Otra forma CADENA LITERAL__"
   ]
  },
  {
   "cell_type": "code",
   "execution_count": 45,
   "id": "6df8a60e",
   "metadata": {},
   "outputs": [
    {
     "name": "stdout",
     "output_type": "stream",
     "text": [
      "10 a la potencia 5 da 100000\n"
     ]
    }
   ],
   "source": [
    "y = 10\n",
    "print(f\"{y} a la potencia 5 da {y**5}\")"
   ]
  },
  {
   "cell_type": "code",
   "execution_count": 43,
   "id": "e0b2518d",
   "metadata": {},
   "outputs": [
    {
     "name": "stdout",
     "output_type": "stream",
     "text": [
      "Auto color rojo con placas 470848\n"
     ]
    }
   ],
   "source": [
    "color = \"rojo\"\n",
    "matrícula = 470848\n",
    "print(f\"Auto color {color} con placas {matrícula}\")"
   ]
  },
  {
   "cell_type": "markdown",
   "id": "012d1815",
   "metadata": {},
   "source": [
    "#### Autor\n",
    "zeev"
   ]
  },
  {
   "cell_type": "code",
   "execution_count": null,
   "id": "abc60bde",
   "metadata": {},
   "outputs": [],
   "source": []
  }
 ],
 "metadata": {
  "kernelspec": {
   "display_name": "Python 3 (ipykernel)",
   "language": "python",
   "name": "python3"
  },
  "language_info": {
   "codemirror_mode": {
    "name": "ipython",
    "version": 3
   },
   "file_extension": ".py",
   "mimetype": "text/x-python",
   "name": "python",
   "nbconvert_exporter": "python",
   "pygments_lexer": "ipython3",
   "version": "3.10.9"
  }
 },
 "nbformat": 4,
 "nbformat_minor": 5
}
